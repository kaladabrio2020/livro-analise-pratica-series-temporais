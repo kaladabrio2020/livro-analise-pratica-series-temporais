{
 "cells": [
  {
   "cell_type": "markdown",
   "id": "bbefde05",
   "metadata": {},
   "source": [
    "### Autoregressão vetorial"
   ]
  },
  {
   "cell_type": "code",
   "execution_count": 8,
   "id": "82f527c9",
   "metadata": {
    "vscode": {
     "languageId": "r"
    }
   },
   "outputs": [],
   "source": [
    "library(forecast)\n",
    "library(zoo)\n",
    "library(data.table)\n",
    "library(vars)"
   ]
  },
  {
   "cell_type": "markdown",
   "id": "d4072042",
   "metadata": {},
   "source": [
    "Modelos Var são usados com mais frequencia na econometria. Não raro, eles sofrem criticasm, **pois não tem nenhuma estrutura além da hipotese de que todos os valores influenciam uns ao outros.**\n",
    "\n",
    "No entanto, VAR ainda tem sua serventia - por exemplo testa se uma variavel causa outra variavel."
   ]
  },
  {
   "cell_type": "code",
   "execution_count": 3,
   "id": "57fcd746",
   "metadata": {
    "vscode": {
     "languageId": "r"
    }
   },
   "outputs": [
    {
     "data": {
      "text/html": [
       "<table class=\"dataframe\">\n",
       "<caption>A data.table: 2 × 14</caption>\n",
       "<thead>\n",
       "\t<tr><th scope=col>V1</th><th scope=col>Week of the month (first week, second, third, fourth or fifth week</th><th scope=col>Day of the week (Monday to Friday)</th><th scope=col>Non-urgent order</th><th scope=col>Urgent order</th><th scope=col>Order type A</th><th scope=col>Order type B</th><th scope=col>Order type C</th><th scope=col>Fiscal sector orders</th><th scope=col>Orders from the traffic controller sector</th><th scope=col>Banking orders (1)</th><th scope=col>Banking orders (2)</th><th scope=col>Banking orders (3)</th><th scope=col>Target (Total orders)</th></tr>\n",
       "\t<tr><th scope=col>&lt;int&gt;</th><th scope=col>&lt;int&gt;</th><th scope=col>&lt;int&gt;</th><th scope=col>&lt;dbl&gt;</th><th scope=col>&lt;dbl&gt;</th><th scope=col>&lt;dbl&gt;</th><th scope=col>&lt;dbl&gt;</th><th scope=col>&lt;dbl&gt;</th><th scope=col>&lt;dbl&gt;</th><th scope=col>&lt;int&gt;</th><th scope=col>&lt;int&gt;</th><th scope=col>&lt;int&gt;</th><th scope=col>&lt;int&gt;</th><th scope=col>&lt;dbl&gt;</th></tr>\n",
       "</thead>\n",
       "<tbody>\n",
       "\t<tr><td>0</td><td>1</td><td>4</td><td>316.307</td><td>223.270</td><td>61.543</td><td>175.586</td><td>302.448</td><td>0</td><td>65556</td><td>44914</td><td>188411</td><td>14793</td><td>539.577</td></tr>\n",
       "\t<tr><td>1</td><td>1</td><td>5</td><td>128.633</td><td> 96.042</td><td>38.058</td><td> 56.037</td><td>130.580</td><td>0</td><td>40419</td><td>21399</td><td> 89461</td><td> 7679</td><td>224.675</td></tr>\n",
       "</tbody>\n",
       "</table>\n"
      ],
      "text/latex": [
       "A data.table: 2 × 14\n",
       "\\begin{tabular}{llllllllllllll}\n",
       " V1 & Week of the month (first week, second, third, fourth or fifth week & Day of the week (Monday to Friday) & Non-urgent order & Urgent order & Order type A & Order type B & Order type C & Fiscal sector orders & Orders from the traffic controller sector & Banking orders (1) & Banking orders (2) & Banking orders (3) & Target (Total orders)\\\\\n",
       " <int> & <int> & <int> & <dbl> & <dbl> & <dbl> & <dbl> & <dbl> & <dbl> & <int> & <int> & <int> & <int> & <dbl>\\\\\n",
       "\\hline\n",
       "\t 0 & 1 & 4 & 316.307 & 223.270 & 61.543 & 175.586 & 302.448 & 0 & 65556 & 44914 & 188411 & 14793 & 539.577\\\\\n",
       "\t 1 & 1 & 5 & 128.633 &  96.042 & 38.058 &  56.037 & 130.580 & 0 & 40419 & 21399 &  89461 &  7679 & 224.675\\\\\n",
       "\\end{tabular}\n"
      ],
      "text/markdown": [
       "\n",
       "A data.table: 2 × 14\n",
       "\n",
       "| V1 &lt;int&gt; | Week of the month (first week, second, third, fourth or fifth week &lt;int&gt; | Day of the week (Monday to Friday) &lt;int&gt; | Non-urgent order &lt;dbl&gt; | Urgent order &lt;dbl&gt; | Order type A &lt;dbl&gt; | Order type B &lt;dbl&gt; | Order type C &lt;dbl&gt; | Fiscal sector orders &lt;dbl&gt; | Orders from the traffic controller sector &lt;int&gt; | Banking orders (1) &lt;int&gt; | Banking orders (2) &lt;int&gt; | Banking orders (3) &lt;int&gt; | Target (Total orders) &lt;dbl&gt; |\n",
       "|---|---|---|---|---|---|---|---|---|---|---|---|---|---|\n",
       "| 0 | 1 | 4 | 316.307 | 223.270 | 61.543 | 175.586 | 302.448 | 0 | 65556 | 44914 | 188411 | 14793 | 539.577 |\n",
       "| 1 | 1 | 5 | 128.633 |  96.042 | 38.058 |  56.037 | 130.580 | 0 | 40419 | 21399 |  89461 |  7679 | 224.675 |\n",
       "\n"
      ],
      "text/plain": [
       "  V1 Week of the month (first week, second, third, fourth or fifth week\n",
       "1 0  1                                                                 \n",
       "2 1  1                                                                 \n",
       "  Day of the week (Monday to Friday) Non-urgent order Urgent order Order type A\n",
       "1 4                                  316.307          223.270      61.543      \n",
       "2 5                                  128.633           96.042      38.058      \n",
       "  Order type B Order type C Fiscal sector orders\n",
       "1 175.586      302.448      0                   \n",
       "2  56.037      130.580      0                   \n",
       "  Orders from the traffic controller sector Banking orders (1)\n",
       "1 65556                                     44914             \n",
       "2 40419                                     21399             \n",
       "  Banking orders (2) Banking orders (3) Target (Total orders)\n",
       "1 188411             14793              539.577              \n",
       "2  89461              7679              224.675              "
      ]
     },
     "metadata": {},
     "output_type": "display_data"
    }
   ],
   "source": [
    "demand = fread('dataset\\\\Daily_Demand_Forecasting_Orders.csv')\n",
    "head(demand, 2)"
   ]
  },
  {
   "cell_type": "code",
   "execution_count": 11,
   "id": "f322596f",
   "metadata": {
    "vscode": {
     "languageId": "r"
    }
   },
   "outputs": [
    {
     "data": {
      "text/html": [
       "<dl>\n",
       "\t<dt>$selection</dt>\n",
       "\t\t<dd><style>\n",
       ".dl-inline {width: auto; margin:0; padding: 0}\n",
       ".dl-inline>dt, .dl-inline>dd {float: none; width: auto; display: inline-block}\n",
       ".dl-inline>dt::after {content: \":\\0020\"; padding-right: .5ex}\n",
       ".dl-inline>dt:not(:first-of-type) {padding-left: .5ex}\n",
       "</style><dl class=dl-inline><dt>AIC(n)</dt><dd>1</dd><dt>HQ(n)</dt><dd>1</dd><dt>SC(n)</dt><dd>1</dd><dt>FPE(n)</dt><dd>1</dd></dl>\n",
       "</dd>\n",
       "\t<dt>$criteria</dt>\n",
       "\t\t<dd><table class=\"dataframe\">\n",
       "<caption>A matrix: 4 × 3 of type dbl</caption>\n",
       "<thead>\n",
       "\t<tr><th></th><th scope=col>1</th><th scope=col>2</th><th scope=col>3</th></tr>\n",
       "</thead>\n",
       "<tbody>\n",
       "\t<tr><th scope=row>AIC(n)</th><td>4.186910e+01</td><td>4.198381e+01</td><td>4.188435e+01</td></tr>\n",
       "\t<tr><th scope=row>HQ(n)</th><td>4.195268e+01</td><td>4.212311e+01</td><td>4.207937e+01</td></tr>\n",
       "\t<tr><th scope=row>SC(n)</th><td>4.208416e+01</td><td>4.234224e+01</td><td>4.238615e+01</td></tr>\n",
       "\t<tr><th scope=row>FPE(n)</th><td>1.526179e+18</td><td>1.712890e+18</td><td>1.553189e+18</td></tr>\n",
       "</tbody>\n",
       "</table>\n",
       "</dd>\n",
       "</dl>\n"
      ],
      "text/latex": [
       "\\begin{description}\n",
       "\\item[\\$selection] \\begin{description*}\n",
       "\\item[AIC(n)] 1\n",
       "\\item[HQ(n)] 1\n",
       "\\item[SC(n)] 1\n",
       "\\item[FPE(n)] 1\n",
       "\\end{description*}\n",
       "\n",
       "\\item[\\$criteria] A matrix: 4 × 3 of type dbl\n",
       "\\begin{tabular}{r|lll}\n",
       "  & 1 & 2 & 3\\\\\n",
       "\\hline\n",
       "\tAIC(n) & 4.186910e+01 & 4.198381e+01 & 4.188435e+01\\\\\n",
       "\tHQ(n) & 4.195268e+01 & 4.212311e+01 & 4.207937e+01\\\\\n",
       "\tSC(n) & 4.208416e+01 & 4.234224e+01 & 4.238615e+01\\\\\n",
       "\tFPE(n) & 1.526179e+18 & 1.712890e+18 & 1.553189e+18\\\\\n",
       "\\end{tabular}\n",
       "\n",
       "\\end{description}\n"
      ],
      "text/markdown": [
       "$selection\n",
       ":   AIC(n)\n",
       ":   1HQ(n)\n",
       ":   1SC(n)\n",
       ":   1FPE(n)\n",
       ":   1\n",
       "\n",
       "\n",
       "$criteria\n",
       ":   \n",
       "A matrix: 4 × 3 of type dbl\n",
       "\n",
       "| <!--/--> | 1 | 2 | 3 |\n",
       "|---|---|---|---|\n",
       "| AIC(n) | 4.186910e+01 | 4.198381e+01 | 4.188435e+01 |\n",
       "| HQ(n) | 4.195268e+01 | 4.212311e+01 | 4.207937e+01 |\n",
       "| SC(n) | 4.208416e+01 | 4.234224e+01 | 4.238615e+01 |\n",
       "| FPE(n) | 1.526179e+18 | 1.712890e+18 | 1.553189e+18 |\n",
       "\n",
       "\n",
       "\n",
       "\n"
      ],
      "text/plain": [
       "$selection\n",
       "AIC(n)  HQ(n)  SC(n) FPE(n) \n",
       "     1      1      1      1 \n",
       "\n",
       "$criteria\n",
       "                  1            2            3\n",
       "AIC(n) 4.186910e+01 4.198381e+01 4.188435e+01\n",
       "HQ(n)  4.195268e+01 4.212311e+01 4.207937e+01\n",
       "SC(n)  4.208416e+01 4.234224e+01 4.238615e+01\n",
       "FPE(n) 1.526179e+18 1.712890e+18 1.553189e+18\n"
      ]
     },
     "metadata": {},
     "output_type": "display_data"
    }
   ],
   "source": [
    "VARselect(demand[, 11:12], lag.max = 3, type = 'const')"
   ]
  },
  {
   "cell_type": "code",
   "execution_count": 12,
   "id": "b5d56816",
   "metadata": {
    "vscode": {
     "languageId": "r"
    }
   },
   "outputs": [
    {
     "data": {
      "text/plain": [
       "\n",
       "VAR Estimation Results:\n",
       "========================= \n",
       "Endogenous variables: Banking.orders..1., Banking.orders..2. \n",
       "Deterministic variables: const \n",
       "Sample size: 57 \n",
       "Log Likelihood: -1341.463 \n",
       "Roots of the characteristic polynomial:\n",
       "0.8582 0.7053 0.684 0.684 0.6003 0.6003\n",
       "Call:\n",
       "VAR(y = demand[, 11:12, with = FALSE], p = 3, type = \"const\")\n",
       "\n",
       "\n",
       "Estimation results for equation Banking.orders..1.: \n",
       "=================================================== \n",
       "Banking.orders..1. = Banking.orders..1..l1 + Banking.orders..2..l1 + Banking.orders..1..l2 + Banking.orders..2..l2 + Banking.orders..1..l3 + Banking.orders..2..l3 + const \n",
       "\n",
       "                        Estimate Std. Error t value Pr(>|t|)    \n",
       "Banking.orders..1..l1  8.415e-01  1.409e-01   5.973 2.41e-07 ***\n",
       "Banking.orders..2..l1 -1.636e-01  1.181e-01  -1.385   0.1722    \n",
       "Banking.orders..1..l2 -2.882e-01  1.814e-01  -1.589   0.1183    \n",
       "Banking.orders..2..l2  1.616e-02  1.213e-01   0.133   0.8946    \n",
       "Banking.orders..1..l3  2.714e-01  1.452e-01   1.869   0.0675 .  \n",
       "Banking.orders..2..l3  2.404e-02  1.119e-01   0.215   0.8308    \n",
       "const                  1.961e+04  1.724e+04   1.137   0.2608    \n",
       "---\n",
       "Signif. codes:  0 '***' 0.001 '**' 0.01 '*' 0.05 '.' 0.1 ' ' 1\n",
       "\n",
       "\n",
       "Residual standard error: 31620 on 50 degrees of freedom\n",
       "Multiple R-Squared: 0.5765,\tAdjusted R-squared: 0.5257 \n",
       "F-statistic: 11.35 on 6 and 50 DF,  p-value: 5.779e-08 \n",
       "\n",
       "\n",
       "Estimation results for equation Banking.orders..2.: \n",
       "=================================================== \n",
       "Banking.orders..2. = Banking.orders..1..l1 + Banking.orders..2..l1 + Banking.orders..1..l2 + Banking.orders..2..l2 + Banking.orders..1..l3 + Banking.orders..2..l3 + const \n",
       "\n",
       "                        Estimate Std. Error t value Pr(>|t|)    \n",
       "Banking.orders..1..l1  2.013e-01  1.632e-01   1.234  0.22307    \n",
       "Banking.orders..2..l1 -1.960e-01  1.368e-01  -1.433  0.15811    \n",
       "Banking.orders..1..l2 -2.615e-01  2.101e-01  -1.245  0.21896    \n",
       "Banking.orders..2..l2 -1.007e-01  1.406e-01  -0.716  0.47703    \n",
       "Banking.orders..1..l3  2.491e-01  1.683e-01   1.481  0.14498    \n",
       "Banking.orders..2..l3 -3.539e-01  1.297e-01  -2.730  0.00873 ** \n",
       "const                  1.213e+05  1.997e+04   6.074 1.68e-07 ***\n",
       "---\n",
       "Signif. codes:  0 '***' 0.001 '**' 0.01 '*' 0.05 '.' 0.1 ' ' 1\n",
       "\n",
       "\n",
       "Residual standard error: 36630 on 50 degrees of freedom\n",
       "Multiple R-Squared: 0.1755,\tAdjusted R-squared: 0.07657 \n",
       "F-statistic: 1.774 on 6 and 50 DF,  p-value: 0.1236 \n",
       "\n",
       "\n",
       "\n",
       "Covariance matrix of residuals:\n",
       "                   Banking.orders..1. Banking.orders..2.\n",
       "Banking.orders..1.          999868339          3.311e+08\n",
       "Banking.orders..2.          331079105          1.342e+09\n",
       "\n",
       "Correlation matrix of residuals:\n",
       "                   Banking.orders..1. Banking.orders..2.\n",
       "Banking.orders..1.             1.0000             0.2858\n",
       "Banking.orders..2.             0.2858             1.0000\n",
       "\n"
      ]
     },
     "metadata": {},
     "output_type": "display_data"
    }
   ],
   "source": [
    "est.var = VAR(demand[,11:12, with=FALSE], p=3, type='const')\n",
    "summary(est.var)"
   ]
  },
  {
   "cell_type": "code",
   "execution_count": 16,
   "id": "822f53cd",
   "metadata": {
    "vscode": {
     "languageId": "r"
    }
   },
   "outputs": [
    {
     "data": {
      "image/png": "[encoded data removed]",
      "text/plain": [
       "Plot with title \"PACF Residuals\""
      ]
     },
     "metadata": {
      "image/png": {
       "height": 420,
       "width": 1080
      }
     },
     "output_type": "display_data"
    },
    {
     "data": {
      "image/png": "[encoded data removed]",
      "text/plain": [
       "Plot with title \"PACF Residuals\""
      ]
     },
     "metadata": {
      "image/png": {
       "height": 420,
       "width": 1080
      }
     },
     "output_type": "display_data"
    }
   ],
   "source": [
    "par(mfrow=c(1,2), bg = 'white')\n",
    "options(repr.plot.width=18)\n",
    "plot(est.var)\n"
   ]
  }
 ],
 "metadata": {
  "kernelspec": {
   "display_name": "R",
   "language": "R",
   "name": "ir"
  },
  "language_info": {
   "codemirror_mode": "r",
   "file_extension": ".r",
   "mimetype": "text/x-r-source",
   "name": "R",
   "pygments_lexer": "r",
   "version": "4.4.1"
  }
 },
 "nbformat": 4,
 "nbformat_minor": 5
}
