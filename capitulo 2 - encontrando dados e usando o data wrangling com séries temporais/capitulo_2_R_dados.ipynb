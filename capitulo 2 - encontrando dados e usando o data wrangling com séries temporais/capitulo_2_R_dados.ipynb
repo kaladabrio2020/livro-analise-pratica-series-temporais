{
 "cells": [
  {
   "cell_type": "markdown",
   "id": "f6046d21",
   "metadata": {},
   "source": [
    "## Limpe seus dados"
   ]
  },
  {
   "cell_type": "code",
   "execution_count": 56,
   "id": "6e636725",
   "metadata": {
    "vscode": {
     "languageId": "r"
    }
   },
   "outputs": [],
   "source": [
    "library(data.table)\n",
    "library(forecast)\n",
    "library(zoo)"
   ]
  },
  {
   "cell_type": "markdown",
   "id": "35ee647a",
   "metadata": {},
   "source": [
    "### Lidando com dados ausente\n",
    "\n",
    "Dados ausentes em séries temporais são bastantes comuns visto que a carga de amostragem longitudinal é bastante pesada. Dessa forma, se desenvolveu metodos para lidar com dados ausente em series temporais no quais são:\n",
    "\n",
    "1. Imputação\n",
    "2. Interpolação\n",
    "3. Exclusão dos tempos afetados"
   ]
  },
  {
   "cell_type": "markdown",
   "id": "231f94e5",
   "metadata": {},
   "source": [
    "#### Preparação\n",
    "\n",
    "Vamos gerar conjunto de dados contendo dados nulos, usando a taxa de desemprego dos estados unidos. Removendo aleatoriamente os dados e removendo o mesmo com maior indice de desemprego"
   ]
  },
  {
   "cell_type": "code",
   "execution_count": 57,
   "id": "3dacc277",
   "metadata": {
    "vscode": {
     "languageId": "r"
    }
   },
   "outputs": [
    {
     "data": {
      "text/html": [
       "<table class=\"dataframe\">\n",
       "<caption>A data.table: 5 × 2</caption>\n",
       "<thead>\n",
       "\t<tr><th scope=col>DATE</th><th scope=col>UNRATE</th></tr>\n",
       "\t<tr><th scope=col>&lt;IDate&gt;</th><th scope=col>&lt;dbl&gt;</th></tr>\n",
       "</thead>\n",
       "<tbody>\n",
       "\t<tr><td>1948-01-01</td><td>3.4</td></tr>\n",
       "\t<tr><td>1948-02-01</td><td>3.8</td></tr>\n",
       "\t<tr><td>1948-03-01</td><td>4.0</td></tr>\n",
       "\t<tr><td>1948-04-01</td><td>3.9</td></tr>\n",
       "\t<tr><td>1948-05-01</td><td>3.5</td></tr>\n",
       "</tbody>\n",
       "</table>\n"
      ],
      "text/latex": [
       "A data.table: 5 × 2\n",
       "\\begin{tabular}{ll}\n",
       " DATE & UNRATE\\\\\n",
       " <IDate> & <dbl>\\\\\n",
       "\\hline\n",
       "\t 1948-01-01 & 3.4\\\\\n",
       "\t 1948-02-01 & 3.8\\\\\n",
       "\t 1948-03-01 & 4.0\\\\\n",
       "\t 1948-04-01 & 3.9\\\\\n",
       "\t 1948-05-01 & 3.5\\\\\n",
       "\\end{tabular}\n"
      ],
      "text/markdown": [
       "\n",
       "A data.table: 5 × 2\n",
       "\n",
       "| DATE &lt;IDate&gt; | UNRATE &lt;dbl&gt; |\n",
       "|---|---|\n",
       "| 1948-01-01 | 3.4 |\n",
       "| 1948-02-01 | 3.8 |\n",
       "| 1948-03-01 | 4.0 |\n",
       "| 1948-04-01 | 3.9 |\n",
       "| 1948-05-01 | 3.5 |\n",
       "\n"
      ],
      "text/plain": [
       "  DATE       UNRATE\n",
       "1 1948-01-01 3.4   \n",
       "2 1948-02-01 3.8   \n",
       "3 1948-03-01 4.0   \n",
       "4 1948-04-01 3.9   \n",
       "5 1948-05-01 3.5   "
      ]
     },
     "metadata": {},
     "output_type": "display_data"
    }
   ],
   "source": [
    "unrate = fread('dataset/UNRATE.csv')\n",
    "head(x = unrate, n = 5)"
   ]
  },
  {
   "cell_type": "code",
   "execution_count": 58,
   "id": "16183b7e",
   "metadata": {
    "vscode": {
     "languageId": "r"
    }
   },
   "outputs": [],
   "source": [
    "unrate[, DATE:= as.Date(DATE)]\n",
    "setkey(unrate, DATE)"
   ]
  },
  {
   "cell_type": "code",
   "execution_count": 59,
   "id": "89c6c932",
   "metadata": {
    "vscode": {
     "languageId": "r"
    }
   },
   "outputs": [
    {
     "data": {
      "text/html": [
       "<style>\n",
       ".list-inline {list-style: none; margin:0; padding: 0}\n",
       ".list-inline>li {display: inline-block}\n",
       ".list-inline>li:not(:last-child)::after {content: \"\\00b7\"; padding: 0 .5ex}\n",
       "</style>\n",
       "<ol class=list-inline><li>836</li><li>679</li><li>129</li><li>509</li><li>471</li><li>299</li><li>270</li><li>187</li><li>307</li><li>597</li><li>277</li><li>494</li><li>330</li><li>775</li><li>591</li><li>725</li><li>37</li><li>105</li><li>729</li><li>485</li><li>677</li><li>802</li><li>382</li><li>601</li><li>801</li><li>326</li><li>832</li><li>554</li><li>422</li><li>111</li><li>404</li><li>532</li><li>506</li><li>556</li><li>343</li><li>582</li><li>121</li><li>40</li><li>684</li><li>537</li><li>375</li><li>248</li><li>198</li><li>378</li><li>39</li><li>435</li><li>390</li><li>280</li><li>672</li><li>526</li><li>642</li><li>45</li><li>402</li><li>22</li><li>718</li><li>742</li><li>193</li><li>371</li><li>499</li><li>104</li><li>819</li><li>767</li><li>492</li><li>616</li><li>615</li><li>465</li><li>525</li><li>826</li><li>176</li><li>345</li><li>110</li><li>84</li><li>29</li><li>141</li><li>252</li><li>733</li><li>620</li><li>304</li><li>545</li><li>557</li><li>661</li><li>287</li><li>614</li><li>145</li></ol>\n"
      ],
      "text/latex": [
       "\\begin{enumerate*}\n",
       "\\item 836\n",
       "\\item 679\n",
       "\\item 129\n",
       "\\item 509\n",
       "\\item 471\n",
       "\\item 299\n",
       "\\item 270\n",
       "\\item 187\n",
       "\\item 307\n",
       "\\item 597\n",
       "\\item 277\n",
       "\\item 494\n",
       "\\item 330\n",
       "\\item 775\n",
       "\\item 591\n",
       "\\item 725\n",
       "\\item 37\n",
       "\\item 105\n",
       "\\item 729\n",
       "\\item 485\n",
       "\\item 677\n",
       "\\item 802\n",
       "\\item 382\n",
       "\\item 601\n",
       "\\item 801\n",
       "\\item 326\n",
       "\\item 832\n",
       "\\item 554\n",
       "\\item 422\n",
       "\\item 111\n",
       "\\item 404\n",
       "\\item 532\n",
       "\\item 506\n",
       "\\item 556\n",
       "\\item 343\n",
       "\\item 582\n",
       "\\item 121\n",
       "\\item 40\n",
       "\\item 684\n",
       "\\item 537\n",
       "\\item 375\n",
       "\\item 248\n",
       "\\item 198\n",
       "\\item 378\n",
       "\\item 39\n",
       "\\item 435\n",
       "\\item 390\n",
       "\\item 280\n",
       "\\item 672\n",
       "\\item 526\n",
       "\\item 642\n",
       "\\item 45\n",
       "\\item 402\n",
       "\\item 22\n",
       "\\item 718\n",
       "\\item 742\n",
       "\\item 193\n",
       "\\item 371\n",
       "\\item 499\n",
       "\\item 104\n",
       "\\item 819\n",
       "\\item 767\n",
       "\\item 492\n",
       "\\item 616\n",
       "\\item 615\n",
       "\\item 465\n",
       "\\item 525\n",
       "\\item 826\n",
       "\\item 176\n",
       "\\item 345\n",
       "\\item 110\n",
       "\\item 84\n",
       "\\item 29\n",
       "\\item 141\n",
       "\\item 252\n",
       "\\item 733\n",
       "\\item 620\n",
       "\\item 304\n",
       "\\item 545\n",
       "\\item 557\n",
       "\\item 661\n",
       "\\item 287\n",
       "\\item 614\n",
       "\\item 145\n",
       "\\end{enumerate*}\n"
      ],
      "text/markdown": [
       "1. 836\n",
       "2. 679\n",
       "3. 129\n",
       "4. 509\n",
       "5. 471\n",
       "6. 299\n",
       "7. 270\n",
       "8. 187\n",
       "9. 307\n",
       "10. 597\n",
       "11. 277\n",
       "12. 494\n",
       "13. 330\n",
       "14. 775\n",
       "15. 591\n",
       "16. 725\n",
       "17. 37\n",
       "18. 105\n",
       "19. 729\n",
       "20. 485\n",
       "21. 677\n",
       "22. 802\n",
       "23. 382\n",
       "24. 601\n",
       "25. 801\n",
       "26. 326\n",
       "27. 832\n",
       "28. 554\n",
       "29. 422\n",
       "30. 111\n",
       "31. 404\n",
       "32. 532\n",
       "33. 506\n",
       "34. 556\n",
       "35. 343\n",
       "36. 582\n",
       "37. 121\n",
       "38. 40\n",
       "39. 684\n",
       "40. 537\n",
       "41. 375\n",
       "42. 248\n",
       "43. 198\n",
       "44. 378\n",
       "45. 39\n",
       "46. 435\n",
       "47. 390\n",
       "48. 280\n",
       "49. 672\n",
       "50. 526\n",
       "51. 642\n",
       "52. 45\n",
       "53. 402\n",
       "54. 22\n",
       "55. 718\n",
       "56. 742\n",
       "57. 193\n",
       "58. 371\n",
       "59. 499\n",
       "60. 104\n",
       "61. 819\n",
       "62. 767\n",
       "63. 492\n",
       "64. 616\n",
       "65. 615\n",
       "66. 465\n",
       "67. 525\n",
       "68. 826\n",
       "69. 176\n",
       "70. 345\n",
       "71. 110\n",
       "72. 84\n",
       "73. 29\n",
       "74. 141\n",
       "75. 252\n",
       "76. 733\n",
       "77. 620\n",
       "78. 304\n",
       "79. 545\n",
       "80. 557\n",
       "81. 661\n",
       "82. 287\n",
       "83. 614\n",
       "84. 145\n",
       "\n",
       "\n"
      ],
      "text/plain": [
       " [1] 836 679 129 509 471 299 270 187 307 597 277 494 330 775 591 725  37 105 729\n",
       "[20] 485 677 802 382 601 801 326 832 554 422 111 404 532 506 556 343 582 121  40\n",
       "[39] 684 537 375 248 198 378  39 435 390 280 672 526 642  45 402  22 718 742 193\n",
       "[58] 371 499 104 819 767 492 616 615 465 525 826 176 345 110  84  29 141 252 733\n",
       "[77] 620 304 545 557 661 287 614 145"
      ]
     },
     "metadata": {},
     "output_type": "display_data"
    }
   ],
   "source": [
    "# Gerando um conjunto de dados onde estão aleatoriamente ausentes\n",
    "set.seed(1)\n",
    "rand.unrate.idx = sample(1:nrow(x = unrate), .1*nrow(unrate))\n",
    "rand.unrate.idx"
   ]
  },
  {
   "cell_type": "code",
   "execution_count": 60,
   "id": "3e5c6025",
   "metadata": {
    "vscode": {
     "languageId": "r"
    }
   },
   "outputs": [],
   "source": [
    "rand.unrate = unrate[-rand.unrate.idx]"
   ]
  },
  {
   "cell_type": "code",
   "execution_count": 61,
   "id": "e0feac53",
   "metadata": {
    "vscode": {
     "languageId": "r"
    }
   },
   "outputs": [],
   "source": [
    "# Removendo dados com maior prob de NA quando o desempredo é alto\n",
    "\n",
    "high.unrate.idx = which(unrate$UNRATE > 8)\n",
    "num.to.select   = .2 * length(high.unrate.idx)\n",
    "\n",
    "high.unrate.idx = sample(high.unrate.idx, )\n",
    "\n",
    "bias.unrate = unrate[-high.unrate.idx]"
   ]
  },
  {
   "cell_type": "code",
   "execution_count": 62,
   "id": "8e5178bf",
   "metadata": {
    "vscode": {
     "languageId": "r"
    }
   },
   "outputs": [],
   "source": [
    "all.date = seq(from = unrate$DATE[1], to = tail(x = unrate$DATE, n = 1), by = 'month')\n",
    "\n",
    "\n",
    "rand.unrate = rand.unrate[J(all.date), roll=0]\n",
    "bias.unrate = bias.unrate[J(all.date), roll=0]\n",
    "\n",
    "rand.unrate[, rpt:=is.na(UNRATE)]"
   ]
  },
  {
   "cell_type": "code",
   "execution_count": 63,
   "id": "8e0b987b",
   "metadata": {
    "vscode": {
     "languageId": "r"
    }
   },
   "outputs": [
    {
     "data": {
      "image/png": "[encoded data removed]",
      "text/plain": [
       "plot without title"
      ]
     },
     "metadata": {
      "image/png": {
       "height": 400,
       "width": 1500
      }
     },
     "output_type": "display_data"
    }
   ],
   "source": [
    "par(mfrow = c(1, 2), bg = 'white')\n",
    "options(repr.plot.width = 15, repr.plot.height = 4, repr.plot.res = 200)\n",
    "plot(rand.unrate$DATE, rand.unrate$UNRATE, type = 'l')\n",
    "plot(bias.unrate$DATE, bias.unrate$UNRATE, type = 'l')"
   ]
  },
  {
   "cell_type": "markdown",
   "id": "144cace7",
   "metadata": {},
   "source": [
    "### Métodos de imputação"
   ]
  },
  {
   "cell_type": "markdown",
   "id": "5e296c04",
   "metadata": {},
   "source": [
    "#### Foward fill\n",
    "Uma das formas mais simples de preencher os valores ausente é transferindo o ultimo valor conhecido para o valor ausente anterior"
   ]
  },
  {
   "cell_type": "code",
   "execution_count": 64,
   "id": "36929b85",
   "metadata": {
    "vscode": {
     "languageId": "r"
    }
   },
   "outputs": [],
   "source": [
    "rand.unrate[, imputacao.ff := na.locf(UNRATE)]\n",
    "bias.unrate[, imputacao.ff := na.locf(UNRATE)]"
   ]
  },
  {
   "cell_type": "code",
   "execution_count": 65,
   "id": "8bbca7db",
   "metadata": {
    "vscode": {
     "languageId": "r"
    }
   },
   "outputs": [
    {
     "data": {
      "text/plain": [
       "NULL"
      ]
     },
     "metadata": {},
     "output_type": "display_data"
    },
    {
     "data": {
      "text/plain": [
       "NULL"
      ]
     },
     "metadata": {},
     "output_type": "display_data"
    },
    {
     "data": {
      "text/plain": [
       "NULL"
      ]
     },
     "metadata": {},
     "output_type": "display_data"
    },
    {
     "data": {
      "image/png": "[encoded data removed]",
      "text/plain": [
       "plot without title"
      ]
     },
     "metadata": {
      "image/png": {
       "height": 400,
       "width": 1500
      }
     },
     "output_type": "display_data"
    }
   ],
   "source": [
    "par(bg = 'white')\n",
    "options(repr.plot.width = 15, repr.plot.height = 4, repr.plot.res = 200)\n",
    "unrate[350:400,\n",
    "    plot(DATE, UNRATE, type = 'b', lwd=1, col=1),\n",
    "]\n",
    "rand.unrate[350:400,\n",
    "    lines(DATE, imputacao.ff, col=2, lwd=2, lty=2)\n",
    "]\n",
    "rand.unrate[\n",
    "    350:400\n",
    "][rpt==TRUE, points(DATE, imputacao.ff, col=3, pch=20, cex=2)]\n"
   ]
  },
  {
   "cell_type": "markdown",
   "id": "e1bc65b4",
   "metadata": {},
   "source": [
    "> Os pontos ventes são os valores imputados"
   ]
  },
  {
   "cell_type": "code",
   "execution_count": 66,
   "id": "26e03651",
   "metadata": {
    "vscode": {
     "languageId": "r"
    }
   },
   "outputs": [
    {
     "data": {
      "image/png": "[encoded data removed]",
      "text/plain": [
       "plot without title"
      ]
     },
     "metadata": {
      "image/png": {
       "height": 500,
       "width": 500
      }
     },
     "output_type": "display_data"
    }
   ],
   "source": [
    "par(bg = 'white')\n",
    "options(repr.plot.width = 5, repr.plot.height = 5, repr.plot.res = 200)\n",
    "plot(unrate$UNRATE, rand.unrate$imputacao.ff)"
   ]
  },
  {
   "cell_type": "markdown",
   "id": "ba2caede",
   "metadata": {},
   "source": [
    "> Voce pode usar o forward fill para pegar valores do passados e progeta-los no futoro mas isso é o **lookhead**\n",
    "> #### LOOKHEAD\n",
    "> Lookahead bias é quando, sem querer, você usa dados de períodos futuros para treinar ou validar um modelo para períodos > passados.\n",
    ">\n",
    "> Exemplo: ao calcular a média móvel de janeiro usando dados de fevereiro, você está “espiando” o futuro\n",
    ">\n",
    "> **SO USE SE NÃO QUISER TREINAR UM MODELO**"
   ]
  },
  {
   "cell_type": "markdown",
   "id": "45afd014",
   "metadata": {},
   "source": [
    "> **Foward fill** apresenta muitas vantagem: não é computacionamente caro e apresentea um desempenho decente em relação a imputação"
   ]
  },
  {
   "cell_type": "markdown",
   "id": "91f30c2b",
   "metadata": {},
   "source": [
    "#### Média Movel\n",
    "Motivos para usar a media movel ao inves do forward fill:\n",
    "1. Se os dados forem muito ruidosos"
   ]
  },
  {
   "cell_type": "code",
   "execution_count": 67,
   "id": "be80f566",
   "metadata": {
    "vscode": {
     "languageId": "r"
    }
   },
   "outputs": [],
   "source": [
    "rand.unrate[, imputacao.mm.sem.lookakead := rollapply( c(NA, NA, UNRATE), 3 ,\n",
    "    function(x){\n",
    "        if (!is.na(x[3])) x[3] else mean(x, na.rm=TRUE)\n",
    "    }\n",
    "    )]\n",
    "\n",
    "bias.unrate[, imputacao.mm.sem.lookakead := rollapply( c(NA, NA, UNRATE), 3 ,\n",
    "    function(x){\n",
    "        if (!is.na(x[3])) x[3] else mean(x, na.rm=TRUE)\n",
    "    }\n",
    ")]"
   ]
  },
  {
   "cell_type": "markdown",
   "id": "ec391f38",
   "metadata": {},
   "source": [
    "> Nãp precisa ser necessariamente a media aritimetca. As **media moveis exponenciais** poderadas forneceriam mais peso aos dados recentes do que aos dados passados.\n",
    "> Media geometrica pode ser de grande serventia para series temporais com alta correlação serial e nos casos em que os valores se combinam ao longo do tempo."
   ]
  },
  {
   "cell_type": "code",
   "execution_count": 68,
   "id": "b6ea9a4f",
   "metadata": {
    "vscode": {
     "languageId": "r"
    }
   },
   "outputs": [
    {
     "data": {
      "text/plain": [
       "NULL"
      ]
     },
     "metadata": {},
     "output_type": "display_data"
    },
    {
     "data": {
      "text/plain": [
       "NULL"
      ]
     },
     "metadata": {},
     "output_type": "display_data"
    },
    {
     "data": {
      "text/plain": [
       "NULL"
      ]
     },
     "metadata": {},
     "output_type": "display_data"
    },
    {
     "data": {
      "image/png": "[encoded data removed]",
      "text/plain": [
       "plot without title"
      ]
     },
     "metadata": {
      "image/png": {
       "height": 400,
       "width": 1500
      }
     },
     "output_type": "display_data"
    }
   ],
   "source": [
    "par(bg = 'white')\n",
    "options(repr.plot.width = 15, repr.plot.height = 4, repr.plot.res = 200)\n",
    "unrate[350:400,\n",
    "    plot(DATE, UNRATE, type = 'b', lwd=1, col=1),\n",
    "]\n",
    "rand.unrate[350:400,\n",
    "    lines(DATE, imputacao.mm.sem.lookakead, col=2, lwd=2, lty=2)\n",
    "]\n",
    "rand.unrate[\n",
    "    350:400\n",
    "][rpt==TRUE, points(DATE, imputacao.mm.sem.lookakead, col=3, pch=20, cex=2)]\n"
   ]
  },
  {
   "cell_type": "markdown",
   "id": "8f9905d1",
   "metadata": {},
   "source": [
    "#### Interpolação\n"
   ]
  },
  {
   "cell_type": "code",
   "execution_count": 69,
   "id": "02a950e7",
   "metadata": {
    "vscode": {
     "languageId": "r"
    }
   },
   "outputs": [],
   "source": [
    "# interpolação linear\n",
    "\n",
    "rand.unrate[, imputacao.inter.linear := na.approx(UNRATE)]\n",
    "bias.unrate[, imputacao.inter.linear := na.approx(UNRATE)]\n",
    "\n",
    "#Interpolação polinomial\n",
    "rand.unrate[, imputacao.inter.poli := na.spline(UNRATE)]\n",
    "bias.unrate[, imputacao.inter.poli := na.spline(UNRATE)]"
   ]
  },
  {
   "cell_type": "code",
   "execution_count": 70,
   "id": "47861963",
   "metadata": {
    "vscode": {
     "languageId": "r"
    }
   },
   "outputs": [
    {
     "data": {
      "text/plain": [
       "NULL"
      ]
     },
     "metadata": {},
     "output_type": "display_data"
    },
    {
     "data": {
      "text/plain": [
       "NULL"
      ]
     },
     "metadata": {},
     "output_type": "display_data"
    },
    {
     "data": {
      "text/plain": [
       "NULL"
      ]
     },
     "metadata": {},
     "output_type": "display_data"
    },
    {
     "data": {
      "image/png": "[encoded data removed]",
      "text/plain": [
       "plot without title"
      ]
     },
     "metadata": {
      "image/png": {
       "height": 400,
       "width": 1500
      }
     },
     "output_type": "display_data"
    }
   ],
   "source": [
    "par(bg = 'white')\n",
    "options(repr.plot.width = 15, repr.plot.height = 4, repr.plot.res = 200)\n",
    "\n",
    "use.idx = 350:400\n",
    "unrate[use.idx,\n",
    "    plot(DATE, UNRATE, type = 'b', lwd=1, col=1),\n",
    "]\n",
    "rand.unrate[use.idx,\n",
    "    lines(DATE, imputacao.inter.linear , col=2, lwd=2, lty=2)\n",
    "]\n",
    "rand.unrate[use.idx,\n",
    "    lines(DATE, imputacao.inter.poli , col=3, lwd=2, lty=2)\n",
    " ]"
   ]
  },
  {
   "cell_type": "markdown",
   "id": "74be8936",
   "metadata": {},
   "source": [
    "> Situações em que inter linear não é nem um pouco oportuna , por exemplo dados ausentes de precipitação voce não deve extrapolar linearmente os dias conhecidos ; como sabemos, não é assim que as chuvas se comportam."
   ]
  },
  {
   "cell_type": "markdown",
   "id": "537eb2f6",
   "metadata": {},
   "source": [
    "#### Comparação geral"
   ]
  },
  {
   "cell_type": "code",
   "execution_count": 71,
   "id": "cc659cad",
   "metadata": {
    "vscode": {
     "languageId": "r"
    }
   },
   "outputs": [
    {
     "data": {
      "text/html": [
       "<table class=\"dataframe\">\n",
       "<caption>A data.table: 1 × 5</caption>\n",
       "<thead>\n",
       "\t<tr><th scope=col>UNRATE</th><th scope=col>imputacao.ff</th><th scope=col>imputacao.mm.sem.lookakead</th><th scope=col>imputacao.inter.linear</th><th scope=col>imputacao.inter.poli</th></tr>\n",
       "\t<tr><th scope=col>&lt;dbl&gt;</th><th scope=col>&lt;dbl&gt;</th><th scope=col>&lt;dbl&gt;</th><th scope=col>&lt;dbl&gt;</th><th scope=col>&lt;dbl&gt;</th></tr>\n",
       "</thead>\n",
       "<tbody>\n",
       "\t<tr><td>0</td><td>0</td><td>0</td><td>0</td><td>2.594937e-34</td></tr>\n",
       "</tbody>\n",
       "</table>\n"
      ],
      "text/latex": [
       "A data.table: 1 × 5\n",
       "\\begin{tabular}{lllll}\n",
       " UNRATE & imputacao.ff & imputacao.mm.sem.lookakead & imputacao.inter.linear & imputacao.inter.poli\\\\\n",
       " <dbl> & <dbl> & <dbl> & <dbl> & <dbl>\\\\\n",
       "\\hline\n",
       "\t 0 & 0 & 0 & 0 & 2.594937e-34\\\\\n",
       "\\end{tabular}\n"
      ],
      "text/markdown": [
       "\n",
       "A data.table: 1 × 5\n",
       "\n",
       "| UNRATE &lt;dbl&gt; | imputacao.ff &lt;dbl&gt; | imputacao.mm.sem.lookakead &lt;dbl&gt; | imputacao.inter.linear &lt;dbl&gt; | imputacao.inter.poli &lt;dbl&gt; |\n",
       "|---|---|---|---|---|\n",
       "| 0 | 0 | 0 | 0 | 2.594937e-34 |\n",
       "\n"
      ],
      "text/plain": [
       "  UNRATE imputacao.ff imputacao.mm.sem.lookakead imputacao.inter.linear\n",
       "1 0      0            0                          0                     \n",
       "  imputacao.inter.poli\n",
       "1 2.594937e-34        "
      ]
     },
     "metadata": {},
     "output_type": "display_data"
    }
   ],
   "source": [
    "\n",
    "rand.unrate[, \n",
    "    lapply(.SD, \n",
    "        function(x){mean((x-rand.unrate$UNRATE)^2,na.rm = TRUE)}), \n",
    "    .SDcols = c('UNRATE', 'imputacao.ff', 'imputacao.mm.sem.lookakead','imputacao.inter.linear', 'imputacao.inter.poli')\n",
    "]\n"
   ]
  },
  {
   "cell_type": "code",
   "execution_count": 72,
   "id": "a69b8598",
   "metadata": {
    "vscode": {
     "languageId": "r"
    }
   },
   "outputs": [
    {
     "data": {
      "text/html": [
       "<table class=\"dataframe\">\n",
       "<caption>A data.table: 1 × 5</caption>\n",
       "<thead>\n",
       "\t<tr><th scope=col>UNRATE</th><th scope=col>imputacao.ff</th><th scope=col>imputacao.mm.sem.lookakead</th><th scope=col>imputacao.inter.linear</th><th scope=col>imputacao.inter.poli</th></tr>\n",
       "\t<tr><th scope=col>&lt;dbl&gt;</th><th scope=col>&lt;dbl&gt;</th><th scope=col>&lt;dbl&gt;</th><th scope=col>&lt;dbl&gt;</th><th scope=col>&lt;dbl&gt;</th></tr>\n",
       "</thead>\n",
       "<tbody>\n",
       "\t<tr><td>0</td><td>0.2373947</td><td>0.005036232</td><td>0.2220384</td><td>0.02481059</td></tr>\n",
       "</tbody>\n",
       "</table>\n"
      ],
      "text/latex": [
       "A data.table: 1 × 5\n",
       "\\begin{tabular}{lllll}\n",
       " UNRATE & imputacao.ff & imputacao.mm.sem.lookakead & imputacao.inter.linear & imputacao.inter.poli\\\\\n",
       " <dbl> & <dbl> & <dbl> & <dbl> & <dbl>\\\\\n",
       "\\hline\n",
       "\t 0 & 0.2373947 & 0.005036232 & 0.2220384 & 0.02481059\\\\\n",
       "\\end{tabular}\n"
      ],
      "text/markdown": [
       "\n",
       "A data.table: 1 × 5\n",
       "\n",
       "| UNRATE &lt;dbl&gt; | imputacao.ff &lt;dbl&gt; | imputacao.mm.sem.lookakead &lt;dbl&gt; | imputacao.inter.linear &lt;dbl&gt; | imputacao.inter.poli &lt;dbl&gt; |\n",
       "|---|---|---|---|---|\n",
       "| 0 | 0.2373947 | 0.005036232 | 0.2220384 | 0.02481059 |\n",
       "\n"
      ],
      "text/plain": [
       "  UNRATE imputacao.ff imputacao.mm.sem.lookakead imputacao.inter.linear\n",
       "1 0      0.2373947    0.005036232                0.2220384             \n",
       "  imputacao.inter.poli\n",
       "1 0.02481059          "
      ]
     },
     "metadata": {},
     "output_type": "display_data"
    }
   ],
   "source": [
    "bias.unrate[, \n",
    "    lapply(.SD, \n",
    "        function(x){mean((x-rand.unrate$UNRATE)^2,na.rm = TRUE)}), \n",
    "    .SDcols = c('UNRATE', 'imputacao.ff', 'imputacao.mm.sem.lookakead','imputacao.inter.linear', 'imputacao.inter.poli')\n",
    "]"
   ]
  },
  {
   "cell_type": "markdown",
   "id": "52230af8",
   "metadata": {},
   "source": [
    "### Dowsampling e upsampling"
   ]
  },
  {
   "cell_type": "markdown",
   "id": "5f65298b",
   "metadata": {},
   "source": [
    "É possivel alterar a frequencia dos timestamps em sua coleta de dados, isso se chama up|downsampling ou tecnicas de aumento ou redução da frequencia do timestamp. Isso visto que os dados de serie temporal muitas vezes não terão a mesma frequencia"
   ]
  },
  {
   "cell_type": "markdown",
   "id": "ab26eba9",
   "metadata": {},
   "source": [
    "#### Downsampling\n",
    "\n",
    "Sempre que voce reduz a frequencia dos dados esta reduzindo a resolução. Isso é feito muitas vezes nos seguintes casos.\n",
    "* Resolução original dos dados não é adequada\n",
    "* Foque uma parte especifica de um ciclo sazonal\n",
    "* Compare os dados em um frequencia menor"
   ]
  },
  {
   "cell_type": "markdown",
   "id": "ba551911",
   "metadata": {},
   "source": [
    "#### Upsampling"
   ]
  },
  {
   "cell_type": "markdown",
   "id": "812812e4",
   "metadata": {},
   "source": [
    "## Suavização de dados"
   ]
  },
  {
   "cell_type": "code",
   "execution_count": 75,
   "id": "1496dff0",
   "metadata": {
    "vscode": {
     "languageId": "r"
    }
   },
   "outputs": [
    {
     "data": {
      "text/html": [
       "1"
      ],
      "text/latex": [
       "1"
      ],
      "text/markdown": [
       "1"
      ],
      "text/plain": [
       "[1] 1"
      ]
     },
     "metadata": {},
     "output_type": "display_data"
    }
   ],
   "source": [
    "frequency(unrate)"
   ]
  }
 ],
 "metadata": {
  "kernelspec": {
   "display_name": "R",
   "language": "R",
   "name": "ir"
  },
  "language_info": {
   "codemirror_mode": "r",
   "file_extension": ".r",
   "mimetype": "text/x-r-source",
   "name": "R",
   "pygments_lexer": "r",
   "version": "4.4.1"
  }
 },
 "nbformat": 4,
 "nbformat_minor": 5
}
