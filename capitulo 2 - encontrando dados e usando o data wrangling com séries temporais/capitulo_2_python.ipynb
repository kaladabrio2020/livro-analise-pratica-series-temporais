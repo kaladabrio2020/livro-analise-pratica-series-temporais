{
 "cells": [
  {
   "cell_type": "markdown",
   "id": "63c47f70",
   "metadata": {},
   "source": [
    "## Encontrando dados e usando data wrangling para series temporais"
   ]
  },
  {
   "cell_type": "code",
   "execution_count": 167,
   "id": "8ab8705d",
   "metadata": {},
   "outputs": [],
   "source": [
    "import pandas as pd \n",
    "import numpy as np \n",
    "import matplotlib.pyplot as plt"
   ]
  },
  {
   "cell_type": "markdown",
   "id": "d851e8a6",
   "metadata": {},
   "source": [
    "### Readaptando uma coleção de dados de Séries temporais a partir de uma conjunto de dados.\n",
    "\n",
    "Vamos imaginar que voce trabalha em uma grande organização sem fins lucrativos e tem monitorado uma variedade de fatores que podem ser uteis que podem ser uteis para a analise de séries temporais:\n",
    "* A reação de um destinário de e-mail em relação aos e-mails que recebeu no decorrer do tempo: ele abriu os e-mails ou não?\n",
    "* Historico de afiliação: houve periodos em que um membro deixou de ser afiliado?\n",
    "* Historio de transações? quando alguem compra e como predizer isso?"
   ]
  },
  {
   "cell_type": "markdown",
   "id": "70ac4306",
   "metadata": {},
   "source": [
    "> Voce pode analisar os dados de diversas formas que serão ensinadas mais adiante"
   ]
  },
  {
   "cell_type": "markdown",
   "id": "27e4a6a7",
   "metadata": {},
   "source": [
    "#### Exemplo prático da sua organização sem fins lucrativos"
   ]
  },
  {
   "cell_type": "markdown",
   "id": "810945bc",
   "metadata": {},
   "source": [
    "`Ano em que cada membro se afilou e o status atual de membro`"
   ]
  },
  {
   "cell_type": "code",
   "execution_count": 168,
   "id": "092ae547",
   "metadata": {},
   "outputs": [
    {
     "data": {
      "text/html": [
       "<div>\n",
       "<style scoped>\n",
       "    .dataframe tbody tr th:only-of-type {\n",
       "        vertical-align: middle;\n",
       "    }\n",
       "\n",
       "    .dataframe tbody tr th {\n",
       "        vertical-align: top;\n",
       "    }\n",
       "\n",
       "    .dataframe thead th {\n",
       "        text-align: right;\n",
       "    }\n",
       "</style>\n",
       "<table border=\"1\" class=\"dataframe\">\n",
       "  <thead>\n",
       "    <tr style=\"text-align: right;\">\n",
       "      <th></th>\n",
       "      <th>user</th>\n",
       "      <th>userStats</th>\n",
       "      <th>yearJoined</th>\n",
       "    </tr>\n",
       "  </thead>\n",
       "  <tbody>\n",
       "    <tr>\n",
       "      <th>0</th>\n",
       "      <td>0</td>\n",
       "      <td>silver</td>\n",
       "      <td>2014</td>\n",
       "    </tr>\n",
       "    <tr>\n",
       "      <th>1</th>\n",
       "      <td>1</td>\n",
       "      <td>silver</td>\n",
       "      <td>2015</td>\n",
       "    </tr>\n",
       "    <tr>\n",
       "      <th>2</th>\n",
       "      <td>2</td>\n",
       "      <td>silver</td>\n",
       "      <td>2016</td>\n",
       "    </tr>\n",
       "    <tr>\n",
       "      <th>3</th>\n",
       "      <td>3</td>\n",
       "      <td>bronze</td>\n",
       "      <td>2018</td>\n",
       "    </tr>\n",
       "    <tr>\n",
       "      <th>4</th>\n",
       "      <td>4</td>\n",
       "      <td>silver</td>\n",
       "      <td>2018</td>\n",
       "    </tr>\n",
       "  </tbody>\n",
       "</table>\n",
       "</div>"
      ],
      "text/plain": [
       "   user userStats  yearJoined\n",
       "0     0    silver        2014\n",
       "1     1    silver        2015\n",
       "2     2    silver        2016\n",
       "3     3    bronze        2018\n",
       "4     4    silver        2018"
      ]
     },
     "execution_count": 168,
     "metadata": {},
     "output_type": "execute_result"
    }
   ],
   "source": [
    "year_joined = pd.read_csv('dataset/year_joined.csv')\n",
    "year_joined.head()"
   ]
  },
  {
   "cell_type": "markdown",
   "id": "4057af6a",
   "metadata": {},
   "source": [
    "`Número de e-mails enviados em uma determinada semana e abertos pelo menbro`"
   ]
  },
  {
   "cell_type": "code",
   "execution_count": 169,
   "id": "8ea0db75",
   "metadata": {},
   "outputs": [
    {
     "data": {
      "text/html": [
       "<div>\n",
       "<style scoped>\n",
       "    .dataframe tbody tr th:only-of-type {\n",
       "        vertical-align: middle;\n",
       "    }\n",
       "\n",
       "    .dataframe tbody tr th {\n",
       "        vertical-align: top;\n",
       "    }\n",
       "\n",
       "    .dataframe thead th {\n",
       "        text-align: right;\n",
       "    }\n",
       "</style>\n",
       "<table border=\"1\" class=\"dataframe\">\n",
       "  <thead>\n",
       "    <tr style=\"text-align: right;\">\n",
       "      <th></th>\n",
       "      <th>emailsOpened</th>\n",
       "      <th>user</th>\n",
       "      <th>week</th>\n",
       "    </tr>\n",
       "  </thead>\n",
       "  <tbody>\n",
       "    <tr>\n",
       "      <th>0</th>\n",
       "      <td>3.0</td>\n",
       "      <td>1.0</td>\n",
       "      <td>2015-06-29 00:00:00</td>\n",
       "    </tr>\n",
       "    <tr>\n",
       "      <th>1</th>\n",
       "      <td>2.0</td>\n",
       "      <td>1.0</td>\n",
       "      <td>2015-07-13 00:00:00</td>\n",
       "    </tr>\n",
       "    <tr>\n",
       "      <th>2</th>\n",
       "      <td>2.0</td>\n",
       "      <td>1.0</td>\n",
       "      <td>2015-07-20 00:00:00</td>\n",
       "    </tr>\n",
       "    <tr>\n",
       "      <th>3</th>\n",
       "      <td>3.0</td>\n",
       "      <td>1.0</td>\n",
       "      <td>2015-07-27 00:00:00</td>\n",
       "    </tr>\n",
       "    <tr>\n",
       "      <th>4</th>\n",
       "      <td>1.0</td>\n",
       "      <td>1.0</td>\n",
       "      <td>2015-08-03 00:00:00</td>\n",
       "    </tr>\n",
       "  </tbody>\n",
       "</table>\n",
       "</div>"
      ],
      "text/plain": [
       "   emailsOpened  user                 week\n",
       "0           3.0   1.0  2015-06-29 00:00:00\n",
       "1           2.0   1.0  2015-07-13 00:00:00\n",
       "2           2.0   1.0  2015-07-20 00:00:00\n",
       "3           3.0   1.0  2015-07-27 00:00:00\n",
       "4           1.0   1.0  2015-08-03 00:00:00"
      ]
     },
     "execution_count": 169,
     "metadata": {},
     "output_type": "execute_result"
    }
   ],
   "source": [
    "email_opened = pd.read_csv('dataset/emails.csv')\n",
    "email_opened.head()"
   ]
  },
  {
   "cell_type": "markdown",
   "id": "bbef4ab5",
   "metadata": {},
   "source": [
    "`tempo em que os membros doaram a sua organização`"
   ]
  },
  {
   "cell_type": "code",
   "execution_count": 170,
   "id": "abd1d402",
   "metadata": {},
   "outputs": [
    {
     "data": {
      "text/html": [
       "<div>\n",
       "<style scoped>\n",
       "    .dataframe tbody tr th:only-of-type {\n",
       "        vertical-align: middle;\n",
       "    }\n",
       "\n",
       "    .dataframe tbody tr th {\n",
       "        vertical-align: top;\n",
       "    }\n",
       "\n",
       "    .dataframe thead th {\n",
       "        text-align: right;\n",
       "    }\n",
       "</style>\n",
       "<table border=\"1\" class=\"dataframe\">\n",
       "  <thead>\n",
       "    <tr style=\"text-align: right;\">\n",
       "      <th></th>\n",
       "      <th>amount</th>\n",
       "      <th>timestamp</th>\n",
       "      <th>user</th>\n",
       "    </tr>\n",
       "  </thead>\n",
       "  <tbody>\n",
       "    <tr>\n",
       "      <th>0</th>\n",
       "      <td>25.0</td>\n",
       "      <td>2017-11-12 11:13:44</td>\n",
       "      <td>0.0</td>\n",
       "    </tr>\n",
       "    <tr>\n",
       "      <th>1</th>\n",
       "      <td>50.0</td>\n",
       "      <td>2015-08-25 19:01:45</td>\n",
       "      <td>0.0</td>\n",
       "    </tr>\n",
       "    <tr>\n",
       "      <th>2</th>\n",
       "      <td>25.0</td>\n",
       "      <td>2015-03-26 12:03:47</td>\n",
       "      <td>0.0</td>\n",
       "    </tr>\n",
       "    <tr>\n",
       "      <th>3</th>\n",
       "      <td>50.0</td>\n",
       "      <td>2016-07-06 12:24:55</td>\n",
       "      <td>0.0</td>\n",
       "    </tr>\n",
       "    <tr>\n",
       "      <th>4</th>\n",
       "      <td>50.0</td>\n",
       "      <td>2016-05-11 18:13:04</td>\n",
       "      <td>1.0</td>\n",
       "    </tr>\n",
       "  </tbody>\n",
       "</table>\n",
       "</div>"
      ],
      "text/plain": [
       "   amount            timestamp  user\n",
       "0    25.0  2017-11-12 11:13:44   0.0\n",
       "1    50.0  2015-08-25 19:01:45   0.0\n",
       "2    25.0  2015-03-26 12:03:47   0.0\n",
       "3    50.0  2016-07-06 12:24:55   0.0\n",
       "4    50.0  2016-05-11 18:13:04   1.0"
      ]
     },
     "execution_count": 170,
     "metadata": {},
     "output_type": "execute_result"
    }
   ],
   "source": [
    "donation = pd.read_csv('dataset/donations.csv')\n",
    "donation.head()"
   ]
  },
  {
   "cell_type": "markdown",
   "id": "db62083d",
   "metadata": {},
   "source": [
    "> É possivel responder perguntas relacionada ao tempo com base nos dados que temos. Contudo, se não colocarmos em um formato de série temporal adequado, não é possivel obter comportamento mais granulares além de não conseguir responder perguntas"
   ]
  },
  {
   "cell_type": "markdown",
   "id": "3456a0ee",
   "metadata": {},
   "source": [
    "Note que os dados estão em tres niveis temporais:\n",
    "1. Status anual do membro\n",
    "2. Registro semanal de e-mail abertos\n",
    "3. Timestamps instantaneos de doações"
   ]
  },
  {
   "cell_type": "code",
   "execution_count": 171,
   "id": "6d0ace35",
   "metadata": {},
   "outputs": [
    {
     "data": {
      "text/html": [
       "<div>\n",
       "<style scoped>\n",
       "    .dataframe tbody tr th:only-of-type {\n",
       "        vertical-align: middle;\n",
       "    }\n",
       "\n",
       "    .dataframe tbody tr th {\n",
       "        vertical-align: top;\n",
       "    }\n",
       "\n",
       "    .dataframe thead th {\n",
       "        text-align: right;\n",
       "    }\n",
       "</style>\n",
       "<table border=\"1\" class=\"dataframe\">\n",
       "  <thead>\n",
       "    <tr style=\"text-align: right;\">\n",
       "      <th></th>\n",
       "      <th>yearJoined</th>\n",
       "    </tr>\n",
       "    <tr>\n",
       "      <th>userStats</th>\n",
       "      <th></th>\n",
       "    </tr>\n",
       "  </thead>\n",
       "  <tbody>\n",
       "    <tr>\n",
       "      <th>1</th>\n",
       "      <td>1000</td>\n",
       "    </tr>\n",
       "  </tbody>\n",
       "</table>\n",
       "</div>"
      ],
      "text/plain": [
       "           yearJoined\n",
       "userStats            \n",
       "1                1000"
      ]
     },
     "execution_count": 171,
     "metadata": {},
     "output_type": "execute_result"
    }
   ],
   "source": [
    "year_joined.groupby(by=['user']).count().groupby(by=['userStats']).count()"
   ]
  },
  {
   "cell_type": "markdown",
   "id": "2a835816",
   "metadata": {},
   "source": [
    "> estamos verificando se há repetição na entrada de um usuario, no caso de todos os mil membro tem apenas um status, oq siginifica que o ano se afiliaram provavelmente é o `yearjoined`"
   ]
  },
  {
   "cell_type": "markdown",
   "id": "5214329b",
   "metadata": {},
   "source": [
    "Na tabela `email_open` temos a coluna week quanto seu conteudo que os dados tem um timestamp ou período de tempo semanal. Isso deve ser agregado aolongo da semana,assim temos considerar esses timestamps com períodos semanais em vez de timestamps que ocorrem com uma semana de diferença"
   ]
  },
  {
   "cell_type": "markdown",
   "id": "e47b2b48",
   "metadata": {},
   "source": [
    "Verificando se há semanas nulas no dataset"
   ]
  },
  {
   "cell_type": "code",
   "execution_count": 172,
   "id": "946ec7be",
   "metadata": {},
   "outputs": [
    {
     "data": {
      "text/html": [
       "<div>\n",
       "<style scoped>\n",
       "    .dataframe tbody tr th:only-of-type {\n",
       "        vertical-align: middle;\n",
       "    }\n",
       "\n",
       "    .dataframe tbody tr th {\n",
       "        vertical-align: top;\n",
       "    }\n",
       "\n",
       "    .dataframe thead th {\n",
       "        text-align: right;\n",
       "    }\n",
       "</style>\n",
       "<table border=\"1\" class=\"dataframe\">\n",
       "  <thead>\n",
       "    <tr style=\"text-align: right;\">\n",
       "      <th></th>\n",
       "      <th>emailsOpened</th>\n",
       "      <th>user</th>\n",
       "      <th>week</th>\n",
       "    </tr>\n",
       "  </thead>\n",
       "  <tbody>\n",
       "  </tbody>\n",
       "</table>\n",
       "</div>"
      ],
      "text/plain": [
       "Empty DataFrame\n",
       "Columns: [emailsOpened, user, week]\n",
       "Index: []"
      ]
     },
     "execution_count": 172,
     "metadata": {},
     "output_type": "execute_result"
    }
   ],
   "source": [
    "email_opened[email_opened['emailsOpened'] < 1]"
   ]
  },
  {
   "cell_type": "markdown",
   "id": "1cf3a4a6",
   "metadata": {},
   "source": [
    "> Por mais que não tenha, não faz sentido um usuario abrir todos os seu emails sem deixar passar pelo menos uma vez.\n",
    "Para tal problema abordado vamos analisar o historio de um usuario"
   ]
  },
  {
   "cell_type": "code",
   "execution_count": 173,
   "id": "a78fd3cd",
   "metadata": {},
   "outputs": [
    {
     "data": {
      "text/html": [
       "<div>\n",
       "<style scoped>\n",
       "    .dataframe tbody tr th:only-of-type {\n",
       "        vertical-align: middle;\n",
       "    }\n",
       "\n",
       "    .dataframe tbody tr th {\n",
       "        vertical-align: top;\n",
       "    }\n",
       "\n",
       "    .dataframe thead th {\n",
       "        text-align: right;\n",
       "    }\n",
       "</style>\n",
       "<table border=\"1\" class=\"dataframe\">\n",
       "  <thead>\n",
       "    <tr style=\"text-align: right;\">\n",
       "      <th></th>\n",
       "      <th>emailsOpened</th>\n",
       "      <th>user</th>\n",
       "      <th>week</th>\n",
       "    </tr>\n",
       "  </thead>\n",
       "  <tbody>\n",
       "    <tr>\n",
       "      <th>25464</th>\n",
       "      <td>1.0</td>\n",
       "      <td>998.0</td>\n",
       "      <td>2017-12-04 00:00:00</td>\n",
       "    </tr>\n",
       "    <tr>\n",
       "      <th>25465</th>\n",
       "      <td>3.0</td>\n",
       "      <td>998.0</td>\n",
       "      <td>2017-12-11 00:00:00</td>\n",
       "    </tr>\n",
       "    <tr>\n",
       "      <th>25466</th>\n",
       "      <td>3.0</td>\n",
       "      <td>998.0</td>\n",
       "      <td>2017-12-18 00:00:00</td>\n",
       "    </tr>\n",
       "    <tr>\n",
       "      <th>25467</th>\n",
       "      <td>3.0</td>\n",
       "      <td>998.0</td>\n",
       "      <td>2018-01-01 00:00:00</td>\n",
       "    </tr>\n",
       "    <tr>\n",
       "      <th>25468</th>\n",
       "      <td>3.0</td>\n",
       "      <td>998.0</td>\n",
       "      <td>2018-01-08 00:00:00</td>\n",
       "    </tr>\n",
       "    <tr>\n",
       "      <th>25469</th>\n",
       "      <td>2.0</td>\n",
       "      <td>998.0</td>\n",
       "      <td>2018-01-15 00:00:00</td>\n",
       "    </tr>\n",
       "    <tr>\n",
       "      <th>25470</th>\n",
       "      <td>3.0</td>\n",
       "      <td>998.0</td>\n",
       "      <td>2018-01-22 00:00:00</td>\n",
       "    </tr>\n",
       "    <tr>\n",
       "      <th>25471</th>\n",
       "      <td>2.0</td>\n",
       "      <td>998.0</td>\n",
       "      <td>2018-01-29 00:00:00</td>\n",
       "    </tr>\n",
       "    <tr>\n",
       "      <th>25472</th>\n",
       "      <td>3.0</td>\n",
       "      <td>998.0</td>\n",
       "      <td>2018-02-05 00:00:00</td>\n",
       "    </tr>\n",
       "    <tr>\n",
       "      <th>25473</th>\n",
       "      <td>3.0</td>\n",
       "      <td>998.0</td>\n",
       "      <td>2018-02-12 00:00:00</td>\n",
       "    </tr>\n",
       "    <tr>\n",
       "      <th>25474</th>\n",
       "      <td>3.0</td>\n",
       "      <td>998.0</td>\n",
       "      <td>2018-02-19 00:00:00</td>\n",
       "    </tr>\n",
       "    <tr>\n",
       "      <th>25475</th>\n",
       "      <td>2.0</td>\n",
       "      <td>998.0</td>\n",
       "      <td>2018-02-26 00:00:00</td>\n",
       "    </tr>\n",
       "    <tr>\n",
       "      <th>25476</th>\n",
       "      <td>2.0</td>\n",
       "      <td>998.0</td>\n",
       "      <td>2018-03-05 00:00:00</td>\n",
       "    </tr>\n",
       "    <tr>\n",
       "      <th>25477</th>\n",
       "      <td>3.0</td>\n",
       "      <td>998.0</td>\n",
       "      <td>2018-03-12 00:00:00</td>\n",
       "    </tr>\n",
       "    <tr>\n",
       "      <th>25478</th>\n",
       "      <td>2.0</td>\n",
       "      <td>998.0</td>\n",
       "      <td>2018-03-19 00:00:00</td>\n",
       "    </tr>\n",
       "    <tr>\n",
       "      <th>25479</th>\n",
       "      <td>2.0</td>\n",
       "      <td>998.0</td>\n",
       "      <td>2018-03-26 00:00:00</td>\n",
       "    </tr>\n",
       "    <tr>\n",
       "      <th>25480</th>\n",
       "      <td>3.0</td>\n",
       "      <td>998.0</td>\n",
       "      <td>2018-04-02 00:00:00</td>\n",
       "    </tr>\n",
       "    <tr>\n",
       "      <th>25481</th>\n",
       "      <td>3.0</td>\n",
       "      <td>998.0</td>\n",
       "      <td>2018-04-09 00:00:00</td>\n",
       "    </tr>\n",
       "    <tr>\n",
       "      <th>25482</th>\n",
       "      <td>3.0</td>\n",
       "      <td>998.0</td>\n",
       "      <td>2018-04-16 00:00:00</td>\n",
       "    </tr>\n",
       "    <tr>\n",
       "      <th>25483</th>\n",
       "      <td>3.0</td>\n",
       "      <td>998.0</td>\n",
       "      <td>2018-04-30 00:00:00</td>\n",
       "    </tr>\n",
       "    <tr>\n",
       "      <th>25484</th>\n",
       "      <td>3.0</td>\n",
       "      <td>998.0</td>\n",
       "      <td>2018-05-07 00:00:00</td>\n",
       "    </tr>\n",
       "    <tr>\n",
       "      <th>25485</th>\n",
       "      <td>3.0</td>\n",
       "      <td>998.0</td>\n",
       "      <td>2018-05-14 00:00:00</td>\n",
       "    </tr>\n",
       "    <tr>\n",
       "      <th>25486</th>\n",
       "      <td>3.0</td>\n",
       "      <td>998.0</td>\n",
       "      <td>2018-05-21 00:00:00</td>\n",
       "    </tr>\n",
       "    <tr>\n",
       "      <th>25487</th>\n",
       "      <td>3.0</td>\n",
       "      <td>998.0</td>\n",
       "      <td>2018-05-28 00:00:00</td>\n",
       "    </tr>\n",
       "  </tbody>\n",
       "</table>\n",
       "</div>"
      ],
      "text/plain": [
       "       emailsOpened   user                 week\n",
       "25464           1.0  998.0  2017-12-04 00:00:00\n",
       "25465           3.0  998.0  2017-12-11 00:00:00\n",
       "25466           3.0  998.0  2017-12-18 00:00:00\n",
       "25467           3.0  998.0  2018-01-01 00:00:00\n",
       "25468           3.0  998.0  2018-01-08 00:00:00\n",
       "25469           2.0  998.0  2018-01-15 00:00:00\n",
       "25470           3.0  998.0  2018-01-22 00:00:00\n",
       "25471           2.0  998.0  2018-01-29 00:00:00\n",
       "25472           3.0  998.0  2018-02-05 00:00:00\n",
       "25473           3.0  998.0  2018-02-12 00:00:00\n",
       "25474           3.0  998.0  2018-02-19 00:00:00\n",
       "25475           2.0  998.0  2018-02-26 00:00:00\n",
       "25476           2.0  998.0  2018-03-05 00:00:00\n",
       "25477           3.0  998.0  2018-03-12 00:00:00\n",
       "25478           2.0  998.0  2018-03-19 00:00:00\n",
       "25479           2.0  998.0  2018-03-26 00:00:00\n",
       "25480           3.0  998.0  2018-04-02 00:00:00\n",
       "25481           3.0  998.0  2018-04-09 00:00:00\n",
       "25482           3.0  998.0  2018-04-16 00:00:00\n",
       "25483           3.0  998.0  2018-04-30 00:00:00\n",
       "25484           3.0  998.0  2018-05-07 00:00:00\n",
       "25485           3.0  998.0  2018-05-14 00:00:00\n",
       "25486           3.0  998.0  2018-05-21 00:00:00\n",
       "25487           3.0  998.0  2018-05-28 00:00:00"
      ]
     },
     "execution_count": 173,
     "metadata": {},
     "output_type": "execute_result"
    }
   ],
   "source": [
    "email_opened[email_opened['user'] == 998]"
   ]
  },
  {
   "cell_type": "markdown",
   "id": "d01d71e9",
   "metadata": {},
   "source": [
    "Verificando matematicamente sé ha alguma semana ausente"
   ]
  },
  {
   "cell_type": "code",
   "execution_count": 174,
   "id": "f29d6e0f",
   "metadata": {},
   "outputs": [],
   "source": [
    "email_opened['week'] = pd.to_datetime(email_opened['week'])"
   ]
  },
  {
   "cell_type": "code",
   "execution_count": 175,
   "id": "91e8263c",
   "metadata": {},
   "outputs": [
    {
     "data": {
      "text/html": [
       "<div>\n",
       "<style scoped>\n",
       "    .dataframe tbody tr th:only-of-type {\n",
       "        vertical-align: middle;\n",
       "    }\n",
       "\n",
       "    .dataframe tbody tr th {\n",
       "        vertical-align: top;\n",
       "    }\n",
       "\n",
       "    .dataframe thead th {\n",
       "        text-align: right;\n",
       "    }\n",
       "</style>\n",
       "<table border=\"1\" class=\"dataframe\">\n",
       "  <thead>\n",
       "    <tr style=\"text-align: right;\">\n",
       "      <th></th>\n",
       "      <th>emailsOpened</th>\n",
       "      <th>user</th>\n",
       "      <th>week</th>\n",
       "    </tr>\n",
       "  </thead>\n",
       "  <tbody>\n",
       "  </tbody>\n",
       "</table>\n",
       "</div>"
      ],
      "text/plain": [
       "Empty DataFrame\n",
       "Columns: [emailsOpened, user, week]\n",
       "Index: []"
      ]
     },
     "execution_count": 175,
     "metadata": {},
     "output_type": "execute_result"
    }
   ],
   "source": [
    "email_opened[email_opened['emailsOpened'] == 998]"
   ]
  },
  {
   "cell_type": "code",
   "execution_count": 176,
   "id": "a6ede400",
   "metadata": {},
   "outputs": [
    {
     "data": {
      "text/plain": [
       "25.0"
      ]
     },
     "execution_count": 176,
     "metadata": {},
     "output_type": "execute_result"
    }
   ],
   "source": [
    "# email_opened['week'][email_opened['emailsOpened'] == 998]\n",
    "subset = email_opened[email_opened['user'] == 998]\n",
    "\n",
    "(subset['week'].max() - subset['week'].min()).days/7"
   ]
  },
  {
   "cell_type": "code",
   "execution_count": 177,
   "id": "b84bece9",
   "metadata": {},
   "outputs": [
    {
     "data": {
      "text/plain": [
       "(24, 3)"
      ]
     },
     "execution_count": 177,
     "metadata": {},
     "output_type": "execute_result"
    }
   ],
   "source": [
    "subset.shape"
   ]
  },
  {
   "cell_type": "markdown",
   "id": "1916a1f5",
   "metadata": {},
   "source": [
    "> Temos 24 linhas, mas deveriamos ter 26 - isso mostra que há algumas semanas faltando.\n",
    ">\n",
    "> Por que 26 linhas?\n",
    "> Exemplo:\n",
    "> $$ dias(7, 14, 21, 28) = \\frac{28 - 7}{7} = 3$$\n",
    "> Contudo falta o contablizar o dia 28 no caso são 4 dias"
   ]
  },
  {
   "cell_type": "markdown",
   "id": "dfcd0906",
   "metadata": {},
   "source": [
    "Vamos preencher as semanas nulas nos dados"
   ]
  },
  {
   "cell_type": "code",
   "execution_count": 178,
   "id": "994c216b",
   "metadata": {},
   "outputs": [],
   "source": [
    "completo_index = pd.MultiIndex.from_product((\n",
    "    set(email_opened['week']), set(email_opened['user'])\n",
    "))"
   ]
  },
  {
   "cell_type": "code",
   "execution_count": 179,
   "id": "7c061a00",
   "metadata": {},
   "outputs": [
    {
     "data": {
      "text/plain": [
       "MultiIndex([('2015-06-15',  1.0),\n",
       "            ('2015-06-15',  3.0),\n",
       "            ('2015-06-15',  5.0),\n",
       "            ('2015-06-15',  6.0),\n",
       "            ('2015-06-15',  9.0),\n",
       "            ('2015-06-15', 10.0),\n",
       "            ('2015-06-15', 14.0),\n",
       "            ('2015-06-15', 16.0),\n",
       "            ('2015-06-15', 20.0),\n",
       "            ('2015-06-15', 21.0)],\n",
       "           )"
      ]
     },
     "execution_count": 179,
     "metadata": {},
     "output_type": "execute_result"
    }
   ],
   "source": [
    "completo_index[0:10]"
   ]
  },
  {
   "cell_type": "markdown",
   "id": "fd73f9a8",
   "metadata": {},
   "source": [
    "> Nesse código, você está criando um índice múltiplo (completo_index) a partir do produto cartesiano de dois conjuntos de valores:\n",
    ">\n",
    "> * set(email_opened['week']): extrai os valores únicos da coluna week do DataFrame email_opened e os converte em um conjunto.\n",
    "> * set(email_opened['user']): extrai os valores únicos da coluna user do DataFrame email_opened e os converte em um conjunto.\n"
   ]
  },
  {
   "cell_type": "code",
   "execution_count": 180,
   "id": "716e1147",
   "metadata": {},
   "outputs": [
    {
     "data": {
      "text/html": [
       "<div>\n",
       "<style scoped>\n",
       "    .dataframe tbody tr th:only-of-type {\n",
       "        vertical-align: middle;\n",
       "    }\n",
       "\n",
       "    .dataframe tbody tr th {\n",
       "        vertical-align: top;\n",
       "    }\n",
       "\n",
       "    .dataframe thead th {\n",
       "        text-align: right;\n",
       "    }\n",
       "</style>\n",
       "<table border=\"1\" class=\"dataframe\">\n",
       "  <thead>\n",
       "    <tr style=\"text-align: right;\">\n",
       "      <th></th>\n",
       "      <th>level_0</th>\n",
       "      <th>level_1</th>\n",
       "      <th>emailsOpened</th>\n",
       "    </tr>\n",
       "  </thead>\n",
       "  <tbody>\n",
       "    <tr>\n",
       "      <th>0</th>\n",
       "      <td>2015-06-15</td>\n",
       "      <td>1.0</td>\n",
       "      <td>0.0</td>\n",
       "    </tr>\n",
       "    <tr>\n",
       "      <th>1</th>\n",
       "      <td>2015-06-15</td>\n",
       "      <td>3.0</td>\n",
       "      <td>0.0</td>\n",
       "    </tr>\n",
       "  </tbody>\n",
       "</table>\n",
       "</div>"
      ],
      "text/plain": [
       "     level_0  level_1  emailsOpened\n",
       "0 2015-06-15      1.0           0.0\n",
       "1 2015-06-15      3.0           0.0"
      ]
     },
     "execution_count": 180,
     "metadata": {},
     "output_type": "execute_result"
    }
   ],
   "source": [
    "todos_emails = email_opened.set_index(['week', 'user'])\\\n",
    "                            .reindex(completo_index, fill_value=0)\\\n",
    "                            .reset_index()\n",
    "\n",
    "# a coluna user de valores numericos sumiu\n",
    "todos_emails.head(2)"
   ]
  },
  {
   "cell_type": "code",
   "execution_count": 181,
   "id": "c148b35a",
   "metadata": {},
   "outputs": [
    {
     "data": {
      "text/html": [
       "<div>\n",
       "<style scoped>\n",
       "    .dataframe tbody tr th:only-of-type {\n",
       "        vertical-align: middle;\n",
       "    }\n",
       "\n",
       "    .dataframe tbody tr th {\n",
       "        vertical-align: top;\n",
       "    }\n",
       "\n",
       "    .dataframe thead th {\n",
       "        text-align: right;\n",
       "    }\n",
       "</style>\n",
       "<table border=\"1\" class=\"dataframe\">\n",
       "  <thead>\n",
       "    <tr style=\"text-align: right;\">\n",
       "      <th></th>\n",
       "      <th>week</th>\n",
       "      <th>user</th>\n",
       "      <th>emailsOpened</th>\n",
       "    </tr>\n",
       "  </thead>\n",
       "  <tbody>\n",
       "    <tr>\n",
       "      <th>0</th>\n",
       "      <td>2015-06-15</td>\n",
       "      <td>1.0</td>\n",
       "      <td>0.0</td>\n",
       "    </tr>\n",
       "    <tr>\n",
       "      <th>1</th>\n",
       "      <td>2015-06-15</td>\n",
       "      <td>3.0</td>\n",
       "      <td>0.0</td>\n",
       "    </tr>\n",
       "  </tbody>\n",
       "</table>\n",
       "</div>"
      ],
      "text/plain": [
       "        week  user  emailsOpened\n",
       "0 2015-06-15   1.0           0.0\n",
       "1 2015-06-15   3.0           0.0"
      ]
     },
     "execution_count": 181,
     "metadata": {},
     "output_type": "execute_result"
    }
   ],
   "source": [
    "todos_emails.columns = ['week', 'user','emailsOpened']\n",
    "todos_emails.head(2)"
   ]
  },
  {
   "cell_type": "markdown",
   "id": "da42b92d",
   "metadata": {},
   "source": [
    "Olhando o usuario 998"
   ]
  },
  {
   "cell_type": "code",
   "execution_count": 182,
   "id": "9a39161d",
   "metadata": {},
   "outputs": [
    {
     "data": {
      "text/html": [
       "<div>\n",
       "<style scoped>\n",
       "    .dataframe tbody tr th:only-of-type {\n",
       "        vertical-align: middle;\n",
       "    }\n",
       "\n",
       "    .dataframe tbody tr th {\n",
       "        vertical-align: top;\n",
       "    }\n",
       "\n",
       "    .dataframe thead th {\n",
       "        text-align: right;\n",
       "    }\n",
       "</style>\n",
       "<table border=\"1\" class=\"dataframe\">\n",
       "  <thead>\n",
       "    <tr style=\"text-align: right;\">\n",
       "      <th></th>\n",
       "      <th>week</th>\n",
       "      <th>user</th>\n",
       "      <th>emailsOpened</th>\n",
       "    </tr>\n",
       "  </thead>\n",
       "  <tbody>\n",
       "    <tr>\n",
       "      <th>538</th>\n",
       "      <td>2015-06-15</td>\n",
       "      <td>998.0</td>\n",
       "      <td>0.0</td>\n",
       "    </tr>\n",
       "    <tr>\n",
       "      <th>1077</th>\n",
       "      <td>2016-02-29</td>\n",
       "      <td>998.0</td>\n",
       "      <td>0.0</td>\n",
       "    </tr>\n",
       "    <tr>\n",
       "      <th>1616</th>\n",
       "      <td>2015-09-28</td>\n",
       "      <td>998.0</td>\n",
       "      <td>0.0</td>\n",
       "    </tr>\n",
       "    <tr>\n",
       "      <th>2155</th>\n",
       "      <td>2016-01-18</td>\n",
       "      <td>998.0</td>\n",
       "      <td>0.0</td>\n",
       "    </tr>\n",
       "    <tr>\n",
       "      <th>2694</th>\n",
       "      <td>2017-05-22</td>\n",
       "      <td>998.0</td>\n",
       "      <td>0.0</td>\n",
       "    </tr>\n",
       "  </tbody>\n",
       "</table>\n",
       "</div>"
      ],
      "text/plain": [
       "           week   user  emailsOpened\n",
       "538  2015-06-15  998.0           0.0\n",
       "1077 2016-02-29  998.0           0.0\n",
       "1616 2015-09-28  998.0           0.0\n",
       "2155 2016-01-18  998.0           0.0\n",
       "2694 2017-05-22  998.0           0.0"
      ]
     },
     "execution_count": 182,
     "metadata": {},
     "output_type": "execute_result"
    }
   ],
   "source": [
    "todos_emails[todos_emails['user'] == 998].head()"
   ]
  },
  {
   "cell_type": "code",
   "execution_count": 183,
   "id": "8b853071",
   "metadata": {},
   "outputs": [
    {
     "data": {
      "text/plain": [
       "(173, 3)"
      ]
     },
     "execution_count": 183,
     "metadata": {},
     "output_type": "execute_result"
    }
   ],
   "source": [
    "todos_emails[todos_emails['user'] == 998].shape"
   ]
  },
  {
   "cell_type": "code",
   "execution_count": 184,
   "id": "c2cf6fb2",
   "metadata": {},
   "outputs": [
    {
     "data": {
      "text/plain": [
       "week            datetime64[ns]\n",
       "user                   float64\n",
       "emailsOpened           float64\n",
       "dtype: object"
      ]
     },
     "execution_count": 184,
     "metadata": {},
     "output_type": "execute_result"
    }
   ],
   "source": [
    "todos_emails.dtypes"
   ]
  },
  {
   "cell_type": "code",
   "execution_count": 185,
   "id": "f386a022",
   "metadata": {},
   "outputs": [
    {
     "data": {
      "text/plain": [
       "emailsOpened\n",
       "0.0    67759\n",
       "3.0    15350\n",
       "1.0     5070\n",
       "2.0     5068\n",
       "Name: count, dtype: int64"
      ]
     },
     "execution_count": 185,
     "metadata": {},
     "output_type": "execute_result"
    }
   ],
   "source": [
    "todos_emails['emailsOpened'].value_counts()"
   ]
  },
  {
   "cell_type": "markdown",
   "id": "c2a8ee81",
   "metadata": {},
   "source": [
    "Temos uma grande numero de zeros no inicio, antes a afiliação. Além disso, depois da ultima atualização dessa forma vamos definir um ponto de corte para remoção desses 0\n"
   ]
  },
  {
   "cell_type": "code",
   "execution_count": 186,
   "id": "6bed0294",
   "metadata": {},
   "outputs": [
    {
     "data": {
      "text/html": [
       "<div>\n",
       "<style scoped>\n",
       "    .dataframe tbody tr th:only-of-type {\n",
       "        vertical-align: middle;\n",
       "    }\n",
       "\n",
       "    .dataframe tbody tr th {\n",
       "        vertical-align: top;\n",
       "    }\n",
       "\n",
       "    .dataframe thead th {\n",
       "        text-align: right;\n",
       "    }\n",
       "</style>\n",
       "<table border=\"1\" class=\"dataframe\">\n",
       "  <thead>\n",
       "    <tr style=\"text-align: right;\">\n",
       "      <th></th>\n",
       "      <th>user</th>\n",
       "      <th>min</th>\n",
       "      <th>max</th>\n",
       "    </tr>\n",
       "  </thead>\n",
       "  <tbody>\n",
       "    <tr>\n",
       "      <th>0</th>\n",
       "      <td>1.0</td>\n",
       "      <td>2015-06-29</td>\n",
       "      <td>2018-05-28</td>\n",
       "    </tr>\n",
       "    <tr>\n",
       "      <th>1</th>\n",
       "      <td>3.0</td>\n",
       "      <td>2018-03-05</td>\n",
       "      <td>2018-04-23</td>\n",
       "    </tr>\n",
       "    <tr>\n",
       "      <th>2</th>\n",
       "      <td>5.0</td>\n",
       "      <td>2017-06-05</td>\n",
       "      <td>2018-05-28</td>\n",
       "    </tr>\n",
       "    <tr>\n",
       "      <th>3</th>\n",
       "      <td>6.0</td>\n",
       "      <td>2016-12-05</td>\n",
       "      <td>2018-05-28</td>\n",
       "    </tr>\n",
       "    <tr>\n",
       "      <th>4</th>\n",
       "      <td>9.0</td>\n",
       "      <td>2016-07-18</td>\n",
       "      <td>2018-05-28</td>\n",
       "    </tr>\n",
       "  </tbody>\n",
       "</table>\n",
       "</div>"
      ],
      "text/plain": [
       "   user        min        max\n",
       "0   1.0 2015-06-29 2018-05-28\n",
       "1   3.0 2018-03-05 2018-04-23\n",
       "2   5.0 2017-06-05 2018-05-28\n",
       "3   6.0 2016-12-05 2018-05-28\n",
       "4   9.0 2016-07-18 2018-05-28"
      ]
     },
     "execution_count": 186,
     "metadata": {},
     "output_type": "execute_result"
    }
   ],
   "source": [
    "# Exemplo\n",
    "email_opened.groupby(['user'])['week'].agg(['min', 'max']).reset_index().head()"
   ]
  },
  {
   "cell_type": "code",
   "execution_count": 187,
   "id": "03c0ac17",
   "metadata": {},
   "outputs": [],
   "source": [
    "for _, row in email_opened.groupby(['user'])['week'].agg(['min', 'max']).reset_index().iterrows():\n",
    "    user_ = row['user']\n",
    "    min_ = row['min']\n",
    "    max_ = row['max']\n",
    "\n",
    "    todos_emails.drop(\n",
    "        index = todos_emails[(todos_emails['user'] == user_) & (todos_emails['week'] < min_)].index,\n",
    "        inplace = True\n",
    "    )\n",
    "\n",
    "    todos_emails.drop(\n",
    "        index = todos_emails[(todos_emails['user'] == user_) & (todos_emails['week'] > max_)].index,\n",
    "        inplace = True\n",
    "    )"
   ]
  },
  {
   "cell_type": "code",
   "execution_count": 188,
   "id": "b2910e3b",
   "metadata": {},
   "outputs": [],
   "source": [
    "email_clean = todos_emails.copy()"
   ]
  },
  {
   "cell_type": "code",
   "execution_count": 189,
   "id": "1c9401b1",
   "metadata": {},
   "outputs": [
    {
     "data": {
      "text/plain": [
       "(26, 3)"
      ]
     },
     "execution_count": 189,
     "metadata": {},
     "output_type": "execute_result"
    }
   ],
   "source": [
    "email_clean[email_clean['user'] == 998].shape"
   ]
  },
  {
   "cell_type": "markdown",
   "id": "9362581b",
   "metadata": {},
   "source": [
    "### Contruindo uma serie temporal encontrada"
   ]
  },
  {
   "cell_type": "markdown",
   "id": "e70c40a2",
   "metadata": {},
   "source": [
    "Relacionando os dados de email e doações entre si. "
   ]
  },
  {
   "cell_type": "code",
   "execution_count": 190,
   "id": "0c8326e0",
   "metadata": {},
   "outputs": [],
   "source": [
    "donation.timestamp = pd.to_datetime(donation.timestamp)\n",
    "donation.set_index('timestamp', inplace=True)"
   ]
  },
  {
   "cell_type": "code",
   "execution_count": 191,
   "id": "d9094590",
   "metadata": {},
   "outputs": [
    {
     "data": {
      "text/html": [
       "<div>\n",
       "<style scoped>\n",
       "    .dataframe tbody tr th:only-of-type {\n",
       "        vertical-align: middle;\n",
       "    }\n",
       "\n",
       "    .dataframe tbody tr th {\n",
       "        vertical-align: top;\n",
       "    }\n",
       "\n",
       "    .dataframe thead th {\n",
       "        text-align: right;\n",
       "    }\n",
       "</style>\n",
       "<table border=\"1\" class=\"dataframe\">\n",
       "  <thead>\n",
       "    <tr style=\"text-align: right;\">\n",
       "      <th></th>\n",
       "      <th>amount</th>\n",
       "      <th>user</th>\n",
       "    </tr>\n",
       "    <tr>\n",
       "      <th>timestamp</th>\n",
       "      <th></th>\n",
       "      <th></th>\n",
       "    </tr>\n",
       "  </thead>\n",
       "  <tbody>\n",
       "    <tr>\n",
       "      <th>2017-11-12 11:13:44</th>\n",
       "      <td>25.0</td>\n",
       "      <td>0.0</td>\n",
       "    </tr>\n",
       "    <tr>\n",
       "      <th>2015-08-25 19:01:45</th>\n",
       "      <td>50.0</td>\n",
       "      <td>0.0</td>\n",
       "    </tr>\n",
       "    <tr>\n",
       "      <th>2015-03-26 12:03:47</th>\n",
       "      <td>25.0</td>\n",
       "      <td>0.0</td>\n",
       "    </tr>\n",
       "    <tr>\n",
       "      <th>2016-07-06 12:24:55</th>\n",
       "      <td>50.0</td>\n",
       "      <td>0.0</td>\n",
       "    </tr>\n",
       "    <tr>\n",
       "      <th>2016-05-11 18:13:04</th>\n",
       "      <td>50.0</td>\n",
       "      <td>1.0</td>\n",
       "    </tr>\n",
       "  </tbody>\n",
       "</table>\n",
       "</div>"
      ],
      "text/plain": [
       "                     amount  user\n",
       "timestamp                        \n",
       "2017-11-12 11:13:44    25.0   0.0\n",
       "2015-08-25 19:01:45    50.0   0.0\n",
       "2015-03-26 12:03:47    25.0   0.0\n",
       "2016-07-06 12:24:55    50.0   0.0\n",
       "2016-05-11 18:13:04    50.0   1.0"
      ]
     },
     "execution_count": 191,
     "metadata": {},
     "output_type": "execute_result"
    }
   ],
   "source": [
    "donation.head()"
   ]
  },
  {
   "cell_type": "code",
   "execution_count": 192,
   "id": "c9b4ed0f",
   "metadata": {},
   "outputs": [
    {
     "name": "stderr",
     "output_type": "stream",
     "text": [
      "C:\\Users\\mateu\\AppData\\Local\\Temp\\ipykernel_11852\\4183698632.py:1: FutureWarning: DataFrameGroupBy.apply operated on the grouping columns. This behavior is deprecated, and in a future version of pandas the grouping columns will be excluded from the operation. Either pass `include_groups=False` to exclude the groupings or explicitly select the grouping columns after groupby to silence this warning.\n",
      "  agg = donation.groupby(['user']).apply(\n"
     ]
    }
   ],
   "source": [
    "agg = donation.groupby(['user']).apply(\n",
    "    lambda x: x.amount.resample('W-MON').sum().dropna()\n",
    ").reset_index()"
   ]
  },
  {
   "cell_type": "markdown",
   "id": "27105832",
   "metadata": {},
   "source": [
    "> Para cada user, soma o amount por semanas que terminam na segunda-feira (W-MON) e remove semanas sem valor (NaN)."
   ]
  },
  {
   "cell_type": "code",
   "execution_count": 193,
   "id": "45ce7fe5",
   "metadata": {},
   "outputs": [
    {
     "name": "stderr",
     "output_type": "stream",
     "text": [
      "C:\\Users\\mateu\\AppData\\Local\\Temp\\ipykernel_11852\\1087864188.py:14: FutureWarning: DataFrameGroupBy.apply operated on the grouping columns. This behavior is deprecated, and in a future version of pandas the grouping columns will be excluded from the operation. Either pass `include_groups=False` to exclude the groupings or explicitly select the grouping columns after groupby to silence this warning.\n",
      "  return donation.groupby(['user']).apply(\n"
     ]
    },
    {
     "data": {
      "text/plain": [
       "user  date      \n",
       "1     2024-01-01    10\n",
       "      2024-01-08    12\n",
       "2     2024-01-01     3\n",
       "      2024-01-08     0\n",
       "      2024-01-15     4\n",
       "Name: amount, dtype: int64"
      ]
     },
     "execution_count": 193,
     "metadata": {},
     "output_type": "execute_result"
    }
   ],
   "source": [
    "def exemplo():\n",
    "    donation = pd.DataFrame({\n",
    "    'user': [1, 1, 1, 2, 2],\n",
    "    'date': [\n",
    "        '2024-01-01', '2024-01-02', '2024-01-08',\n",
    "        '2024-01-01', '2024-01-09'\n",
    "    ],\n",
    "    'amount': [10, 5, 7, 3, 4]\n",
    "    })\n",
    "\n",
    "    donation['date'] = pd.to_datetime(donation['date'])\n",
    "    donation.set_index('date', inplace=True)\n",
    "\n",
    "    return donation.groupby(['user']).apply(\n",
    "        lambda x: x.amount.resample('W-MON').sum().dropna()\n",
    "    )\n",
    "exemplo()"
   ]
  },
  {
   "cell_type": "code",
   "execution_count": 213,
   "id": "9e020dbc",
   "metadata": {},
   "outputs": [
    {
     "data": {
      "text/plain": [
       "user      float64\n",
       "amount    float64\n",
       "dtype: object"
      ]
     },
     "execution_count": 213,
     "metadata": {},
     "output_type": "execute_result"
    }
   ],
   "source": [
    "user_donation.dtypes"
   ]
  },
  {
   "cell_type": "code",
   "execution_count": 221,
   "id": "bc045d66",
   "metadata": {},
   "outputs": [
    {
     "name": "stderr",
     "output_type": "stream",
     "text": [
      "C:\\Users\\mateu\\AppData\\Local\\Temp\\ipykernel_11852\\2740211370.py:32: FutureWarning: The behavior of DataFrame concatenation with empty or all-NA entries is deprecated. In a future version, this will no longer exclude empty or all-NA columns when determining the result dtypes. To retain the old behavior, exclude the relevant entries before the concat operation.\n",
      "  merge_data = pd.concat(\n"
     ]
    }
   ],
   "source": [
    "merge_data = pd.DataFrame(\n",
    "    columns=['user', 'week', 'amount', 'emailsOpened']\n",
    ")\n",
    "pd.set_option('future.no_silent_downcasting', True)\n",
    "for user_, member_email in todos_emails.groupby(['user']):\n",
    "\n",
    "    # Verificando se o usuário doou\n",
    "    user_donation = agg[agg.user == user_]\n",
    "    if user_ == 998.0:\n",
    "        print(user_donation)\n",
    "        break\n",
    "    # Definindo a coluna 'timestamp' com indice\n",
    "    user_donation.set_index('timestamp', inplace=True)\n",
    "\n",
    "    member_email.set_index('week', inplace=True)\n",
    "\n",
    "    # \n",
    "    member_email = todos_emails[todos_emails['user'] == user_]\n",
    "\n",
    "    member_email.sort_values('week').set_index('week', inplace=True)\n",
    "    \n",
    "    data = member_email.sort_values('week').set_index('week')\\\n",
    "        .merge(\n",
    "            user_donation, how='left', left_index=True, right_index=True\n",
    "        )\n",
    "\n",
    "\n",
    "    data = data.fillna(0)\n",
    "\n",
    "    data['user']  = data['user_x']\n",
    "\n",
    "    merge_data = pd.concat(\n",
    "        [merge_data, data.reset_index()[['user', 'week', 'amount', 'emailsOpened']]]\n",
    "    )"
   ]
  },
  {
   "cell_type": "code",
   "execution_count": 225,
   "id": "6d90e5c6",
   "metadata": {},
   "outputs": [
    {
     "data": {
      "text/html": [
       "<div>\n",
       "<style scoped>\n",
       "    .dataframe tbody tr th:only-of-type {\n",
       "        vertical-align: middle;\n",
       "    }\n",
       "\n",
       "    .dataframe tbody tr th {\n",
       "        vertical-align: top;\n",
       "    }\n",
       "\n",
       "    .dataframe thead th {\n",
       "        text-align: right;\n",
       "    }\n",
       "</style>\n",
       "<table border=\"1\" class=\"dataframe\">\n",
       "  <thead>\n",
       "    <tr style=\"text-align: right;\">\n",
       "      <th></th>\n",
       "      <th>user</th>\n",
       "      <th>week</th>\n",
       "      <th>amount</th>\n",
       "      <th>emailsOpened</th>\n",
       "      <th>target</th>\n",
       "    </tr>\n",
       "  </thead>\n",
       "  <tbody>\n",
       "    <tr>\n",
       "      <th>0</th>\n",
       "      <td>998.0</td>\n",
       "      <td>2017-12-04</td>\n",
       "      <td>0.0</td>\n",
       "      <td>1.0</td>\n",
       "      <td>NaN</td>\n",
       "    </tr>\n",
       "    <tr>\n",
       "      <th>1</th>\n",
       "      <td>998.0</td>\n",
       "      <td>2017-12-11</td>\n",
       "      <td>0.0</td>\n",
       "      <td>3.0</td>\n",
       "      <td>0.0</td>\n",
       "    </tr>\n",
       "    <tr>\n",
       "      <th>2</th>\n",
       "      <td>998.0</td>\n",
       "      <td>2017-12-18</td>\n",
       "      <td>0.0</td>\n",
       "      <td>3.0</td>\n",
       "      <td>0.0</td>\n",
       "    </tr>\n",
       "    <tr>\n",
       "      <th>3</th>\n",
       "      <td>998.0</td>\n",
       "      <td>2017-12-25</td>\n",
       "      <td>0.0</td>\n",
       "      <td>0.0</td>\n",
       "      <td>0.0</td>\n",
       "    </tr>\n",
       "    <tr>\n",
       "      <th>4</th>\n",
       "      <td>998.0</td>\n",
       "      <td>2018-01-01</td>\n",
       "      <td>0.0</td>\n",
       "      <td>3.0</td>\n",
       "      <td>0.0</td>\n",
       "    </tr>\n",
       "    <tr>\n",
       "      <th>5</th>\n",
       "      <td>998.0</td>\n",
       "      <td>2018-01-08</td>\n",
       "      <td>50.0</td>\n",
       "      <td>3.0</td>\n",
       "      <td>0.0</td>\n",
       "    </tr>\n",
       "    <tr>\n",
       "      <th>6</th>\n",
       "      <td>998.0</td>\n",
       "      <td>2018-01-15</td>\n",
       "      <td>0.0</td>\n",
       "      <td>2.0</td>\n",
       "      <td>50.0</td>\n",
       "    </tr>\n",
       "    <tr>\n",
       "      <th>7</th>\n",
       "      <td>998.0</td>\n",
       "      <td>2018-01-22</td>\n",
       "      <td>0.0</td>\n",
       "      <td>3.0</td>\n",
       "      <td>0.0</td>\n",
       "    </tr>\n",
       "    <tr>\n",
       "      <th>8</th>\n",
       "      <td>998.0</td>\n",
       "      <td>2018-01-29</td>\n",
       "      <td>0.0</td>\n",
       "      <td>2.0</td>\n",
       "      <td>0.0</td>\n",
       "    </tr>\n",
       "    <tr>\n",
       "      <th>9</th>\n",
       "      <td>998.0</td>\n",
       "      <td>2018-02-05</td>\n",
       "      <td>0.0</td>\n",
       "      <td>3.0</td>\n",
       "      <td>0.0</td>\n",
       "    </tr>\n",
       "  </tbody>\n",
       "</table>\n",
       "</div>"
      ],
      "text/plain": [
       "    user       week  amount  emailsOpened  target\n",
       "0  998.0 2017-12-04     0.0           1.0     NaN\n",
       "1  998.0 2017-12-11     0.0           3.0     0.0\n",
       "2  998.0 2017-12-18     0.0           3.0     0.0\n",
       "3  998.0 2017-12-25     0.0           0.0     0.0\n",
       "4  998.0 2018-01-01     0.0           3.0     0.0\n",
       "5  998.0 2018-01-08    50.0           3.0     0.0\n",
       "6  998.0 2018-01-15     0.0           2.0    50.0\n",
       "7  998.0 2018-01-22     0.0           3.0     0.0\n",
       "8  998.0 2018-01-29     0.0           2.0     0.0\n",
       "9  998.0 2018-02-05     0.0           3.0     0.0"
      ]
     },
     "execution_count": 225,
     "metadata": {},
     "output_type": "execute_result"
    }
   ],
   "source": [
    "subset = merge_data[merge_data['user']==998].copy(deep=True)\n",
    "subset['target'] = subset['amount'].shift(1)\n",
    "subset.head(10)"
   ]
  },
  {
   "cell_type": "code",
   "execution_count": null,
   "id": "62b040c2",
   "metadata": {},
   "outputs": [],
   "source": []
  }
 ],
 "metadata": {
  "kernelspec": {
   "display_name": ".venv",
   "language": "python",
   "name": "python3"
  },
  "language_info": {
   "codemirror_mode": {
    "name": "ipython",
    "version": 3
   },
   "file_extension": ".py",
   "mimetype": "text/x-python",
   "name": "python",
   "nbconvert_exporter": "python",
   "pygments_lexer": "ipython3",
   "version": "3.12.10"
  }
 },
 "nbformat": 4,
 "nbformat_minor": 5
}
